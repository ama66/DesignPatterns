{
 "cells": [
  {
   "cell_type": "code",
   "execution_count": 17,
   "metadata": {},
   "outputs": [
    {
     "name": "stdout",
     "output_type": "stream",
     "text": [
      "Drawing some rectangles...\n",
      "1: Generating points for line [1,1]→[11,1]\n",
      "..........1: Generating points for line [11,1]→[11,11]\n",
      "1: Generating points for line [1,1]→[1,11]\n",
      "1: Generating points for line [1,11]→[11,11]\n",
      "..........1: Generating points for line [3,3]→[9,3]\n",
      "......1: Generating points for line [9,3]→[9,9]\n",
      "1: Generating points for line [3,3]→[3,9]\n",
      "1: Generating points for line [3,9]→[9,9]\n",
      "......\n",
      "\n",
      "Drawing some rectangles...\n",
      "................................\n",
      "\n",
      "-9223372036576453558\n"
     ]
    }
   ],
   "source": [
    "class Point:\n",
    "    def __init__(self, x, y):\n",
    "        self.y = y\n",
    "        self.x = x\n",
    "\n",
    "\n",
    "def draw_point(p):\n",
    "    print('.', end='')\n",
    "\n",
    "\n",
    "# ^^ you are given this\n",
    "\n",
    "# vv you are working with this\n",
    "class Line:\n",
    "    def __init__(self, start, end):\n",
    "        self.end = end\n",
    "        self.start = start\n",
    "\n",
    "\n",
    "class Rectangle(list):\n",
    "    \"\"\" Represented as a list of lines. \"\"\"\n",
    "\n",
    "    def __init__(self, x, y, width, height):\n",
    "        super().__init__()\n",
    "        self.append(Line(Point(x, y), Point(x + width, y)))\n",
    "        self.append(Line(Point(x + width, y), Point(x + width, y + height)))\n",
    "        self.append(Line(Point(x, y), Point(x, y + height)))\n",
    "        self.append(Line(Point(x, y + height), Point(x + width, y + height)))\n",
    "\n",
    "\n",
    "class LineToPointAdapter:\n",
    "    count = 0\n",
    "    cache = {}\n",
    "\n",
    "    def __init__(self, line):\n",
    "        self.h = hash(line)\n",
    "        if self.h in self.cache:\n",
    "            return\n",
    "\n",
    "        super().__init__()\n",
    "        self.count += 1\n",
    "        print(f'{self.count}: Generating points for line ' +\n",
    "              f'[{line.start.x},{line.start.y}]→[{line.end.x},{line.end.y}]')\n",
    "\n",
    "        left = min(line.start.x, line.end.x)\n",
    "        right = max(line.start.x, line.end.x)\n",
    "        top = min(line.start.y, line.end.y)\n",
    "        bottom = min(line.start.y, line.end.y)\n",
    "\n",
    "        points = []\n",
    "\n",
    "        if right - left == 0:\n",
    "            for y in range(top, bottom):\n",
    "                points.append(Point(left, y))\n",
    "        elif line.end.y - line.start.y == 0:\n",
    "            for x in range(left, right):\n",
    "                points.append(Point(x, top))\n",
    "\n",
    "        self.cache[self.h] = points\n",
    "\n",
    "    def __iter__(self):\n",
    "        return iter(self.cache[self.h])\n",
    "\n",
    "def draw(rcs):\n",
    "    print('Drawing some rectangles...')\n",
    "    for rc in rcs:\n",
    "        for line in rc:\n",
    "            adapter = LineToPointAdapter(line)\n",
    "            for p in adapter:\n",
    "                draw_point(p)\n",
    "    print('\\n')\n",
    "\n",
    "\n",
    "if __name__ == '__main__':\n",
    "    rs = [\n",
    "        Rectangle(1, 1, 10, 10),\n",
    "        Rectangle(3, 3, 6, 6)\n",
    "    ]\n",
    "\n",
    "    draw(rs)\n",
    "    draw(rs)\n",
    "\n",
    "    # can define your own hashes or use the defaults\n",
    "    print(hash(Line(Point(1, 1), Point(10, 10))))"
   ]
  },
  {
   "cell_type": "code",
   "execution_count": 25,
   "metadata": {},
   "outputs": [
    {
     "name": "stdout",
     "output_type": "stream",
     "text": [
      "-9223372036576456574\n"
     ]
    }
   ],
   "source": [
    "print(hash(Line(Point(1, 1), Point(10, 10))))"
   ]
  },
  {
   "cell_type": "code",
   "execution_count": 35,
   "metadata": {},
   "outputs": [
    {
     "name": "stdout",
     "output_type": "stream",
     "text": [
      "The hash is:\n",
      "-8621953983387177206\n"
     ]
    }
   ],
   "source": [
    "class Person:\n",
    "    def __init__(self, age, name):\n",
    "        self.age = age\n",
    "        self.name = name\n",
    "\n",
    "    def __eq__(self, other):\n",
    "        return self.age == other.age and self.name == other.name\n",
    "\n",
    "    def __hash__(self):\n",
    "        print('The hash is:')\n",
    "        return hash((self.age, self.name))\n",
    "\n",
    "person = Person(23, 'Adam')\n",
    "print(hash(person))\n"
   ]
  },
  {
   "cell_type": "code",
   "execution_count": 36,
   "metadata": {},
   "outputs": [
    {
     "data": {
      "text/plain": [
       "<bound method Person.__hash__ of <__main__.Person object at 0x1096d0668>>"
      ]
     },
     "execution_count": 36,
     "metadata": {},
     "output_type": "execute_result"
    }
   ],
   "source": [
    "person.__hash__"
   ]
  },
  {
   "cell_type": "code",
   "execution_count": 39,
   "metadata": {},
   "outputs": [
    {
     "name": "stdout",
     "output_type": "stream",
     "text": [
      "The hash is:\n"
     ]
    },
    {
     "data": {
      "text/plain": [
       "-8621953983647948470"
      ]
     },
     "execution_count": 39,
     "metadata": {},
     "output_type": "execute_result"
    }
   ],
   "source": [
    "hash(person.__hash__)"
   ]
  },
  {
   "cell_type": "code",
   "execution_count": 41,
   "metadata": {},
   "outputs": [],
   "source": [
    "from unittest import TestCase\n",
    "\n",
    "class Square:\n",
    "    def __init__(self, side=0):\n",
    "        self.side = side\n",
    "\n",
    "def calculate_area(rc):\n",
    "    return rc.width * rc.height\n",
    "\n",
    "class SquareToRectangleAdapter:\n",
    "    def __init__(self, square):\n",
    "        self.square = square\n",
    "\n",
    "    @property\n",
    "    def width(self):\n",
    "        return self.square.side\n",
    "\n",
    "    @property\n",
    "    def height(self):\n",
    "        return self.square.side\n",
    "\n",
    "class Evaluate(TestCase):\n",
    "    def test_exercise(self):\n",
    "        sq = Square(11)\n",
    "        adapter = SquareToRectangleAdapter(sq)\n",
    "        self.assertEqual(121, calculate_area(adapter))\n",
    "        sq.side = 10\n",
    "        self.assertEqual(100, calculate_area(adapter))\n",
    "\n",
    "\n",
    "\n"
   ]
  },
  {
   "cell_type": "code",
   "execution_count": 42,
   "metadata": {},
   "outputs": [
    {
     "data": {
      "text/plain": [
       "121"
      ]
     },
     "execution_count": 42,
     "metadata": {},
     "output_type": "execute_result"
    }
   ],
   "source": [
    "sq = Square(11)\n",
    "calculate_area(SquareToRectangleAdapter(sq))\n"
   ]
  },
  {
   "cell_type": "code",
   "execution_count": 45,
   "metadata": {},
   "outputs": [
    {
     "data": {
      "text/plain": [
       "(11, 11)"
      ]
     },
     "execution_count": 45,
     "metadata": {},
     "output_type": "execute_result"
    }
   ],
   "source": [
    "ad=SquareToRectangleAdapter(sq)\n",
    "ad.width, ad.height"
   ]
  },
  {
   "cell_type": "code",
   "execution_count": null,
   "metadata": {},
   "outputs": [],
   "source": []
  }
 ],
 "metadata": {
  "kernelspec": {
   "display_name": "Python 3",
   "language": "python",
   "name": "python3"
  },
  "language_info": {
   "codemirror_mode": {
    "name": "ipython",
    "version": 3
   },
   "file_extension": ".py",
   "mimetype": "text/x-python",
   "name": "python",
   "nbconvert_exporter": "python",
   "pygments_lexer": "ipython3",
   "version": "3.6.7"
  }
 },
 "nbformat": 4,
 "nbformat_minor": 2
}
