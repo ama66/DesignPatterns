{
 "cells": [
  {
   "cell_type": "code",
   "execution_count": 6,
   "metadata": {},
   "outputs": [
    {
     "name": "stdout",
     "output_type": "stream",
     "text": [
      "[0, 1]\n",
      "[2, 1]\n",
      "['Jim', 'Jones', 'Frank']\n"
     ]
    }
   ],
   "source": [
    "## we have 10,000 combinations of only 200 unique names and we are storing all of them! \n",
    "## what the flyweight design pattern does is store reference/index in a list of the 200 names! \n",
    "## and hence saving huge chunks of memory! \n",
    "\n",
    "import random\n",
    "import string\n",
    "import sys\n",
    "\n",
    "class User:\n",
    "    def __init__(self, name):\n",
    "        self.name = name\n",
    "\n",
    "class User2:\n",
    "    strings = []\n",
    "\n",
    "    def __init__(self, full_name):\n",
    "        def get_or_add(s):\n",
    "            if s in self.strings:\n",
    "                return self.strings.index(s)\n",
    "            else:\n",
    "                self.strings.append(s)\n",
    "                return len(self.strings)-1\n",
    "        self.names = [get_or_add(x) for x in full_name.split(' ')]\n",
    "\n",
    "    def __str__(self):\n",
    "        return ' '.join([self.strings[x] for x in self.names])\n",
    "\n",
    "def random_string():\n",
    "    chars = string.ascii_lowercase\n",
    "    return ''.join([random.choice(chars) for x in range(8)])\n",
    "\n",
    "\n",
    "if __name__ == '__main__':\n",
    "    users = []\n",
    "\n",
    "    first_names = [random_string() for x in range(100)]\n",
    "    last_names = [random_string() for x in range(100)]\n",
    "\n",
    "    for first in first_names:\n",
    "        for last in last_names:\n",
    "            users.append(User(f'{first} {last}'))\n",
    "\n",
    "    u2 = User2('Jim Jones')\n",
    "    u3 = User2('Frank Jones')\n",
    "    \n",
    "    print(u2.names)\n",
    "    print(u3.names)\n",
    "    print(User2.strings)\n",
    "\n",
    "    users2 = []\n",
    "\n",
    "    for first in first_names:\n",
    "        for last in last_names:\n",
    "            users2.append(User2(f'{first} {last}'))\n"
   ]
  },
  {
   "cell_type": "code",
   "execution_count": 4,
   "metadata": {},
   "outputs": [
    {
     "data": {
      "text/plain": [
       "'fzdwcbxv izequves'"
      ]
     },
     "execution_count": 4,
     "metadata": {},
     "output_type": "execute_result"
    }
   ],
   "source": [
    "users[0].name"
   ]
  },
  {
   "cell_type": "code",
   "execution_count": 10,
   "metadata": {
    "scrolled": true
   },
   "outputs": [
    {
     "data": {
      "text/plain": [
       "[3, 4]"
      ]
     },
     "execution_count": 10,
     "metadata": {},
     "output_type": "execute_result"
    }
   ],
   "source": [
    "users2[0].names"
   ]
  },
  {
   "cell_type": "code",
   "execution_count": 17,
   "metadata": {},
   "outputs": [
    {
     "name": "stdout",
     "output_type": "stream",
     "text": [
      "ytrfpral rqjhvsxx\n"
     ]
    }
   ],
   "source": [
    "print(users2[0])"
   ]
  },
  {
   "cell_type": "code",
   "execution_count": 18,
   "metadata": {},
   "outputs": [
    {
     "data": {
      "text/plain": [
       "['ytrfpral', 'rqjhvsxx']"
      ]
     },
     "execution_count": 18,
     "metadata": {},
     "output_type": "execute_result"
    }
   ],
   "source": [
    "users2[0].strings[3:5] "
   ]
  },
  {
   "cell_type": "code",
   "execution_count": 14,
   "metadata": {},
   "outputs": [
    {
     "data": {
      "text/plain": [
       "203"
      ]
     },
     "execution_count": 14,
     "metadata": {},
     "output_type": "execute_result"
    }
   ],
   "source": [
    "len(User2.strings)"
   ]
  },
  {
   "cell_type": "code",
   "execution_count": 15,
   "metadata": {},
   "outputs": [
    {
     "data": {
      "text/plain": [
       "['Jim', 'Jones', 'Frank', 'ytrfpral', 'rqjhvsxx']"
      ]
     },
     "execution_count": 15,
     "metadata": {},
     "output_type": "execute_result"
    }
   ],
   "source": [
    "User2.strings[0:5]"
   ]
  },
  {
   "cell_type": "code",
   "execution_count": 23,
   "metadata": {},
   "outputs": [
    {
     "name": "stdout",
     "output_type": "stream",
     "text": [
      "This is a BRAVE new world\n",
      "This is a brave NEW world\n"
     ]
    }
   ],
   "source": [
    "########### Text Formatting \n",
    "## This is the antipattern where we are storing a huge list of booleans to indicate\n",
    "## whether or not the corresponding character is upper or lower case\n",
    "\n",
    "class FormattedText:\n",
    "    def __init__(self, plain_text):\n",
    "        self.plain_text = plain_text\n",
    "        self.caps = [False] * len(plain_text)\n",
    "\n",
    "    def capitalize(self, start, end):\n",
    "        for i in range(start, end):\n",
    "            self.caps[i] = True\n",
    "\n",
    "    def __str__(self):\n",
    "        result = []\n",
    "        for i in range(len(self.plain_text)):\n",
    "            c = self.plain_text[i]\n",
    "            result.append(c.upper() if self.caps[i] else c)\n",
    "        return ''.join(result)\n",
    "\n",
    "## Flyweight pattern \n",
    "\n",
    "class BetterFormattedText:\n",
    "    def __init__(self, plain_text):\n",
    "        self.plain_text = plain_text\n",
    "        ### Formatting will be a collection of range objects that may have different\n",
    "        ## formatting options \n",
    "        self.formatting = []\n",
    "\n",
    "    class TextRange:\n",
    "        def __init__(self, start, end, capitalize=False, bold=False, italic=False):\n",
    "            self.end = end\n",
    "            self.bold = bold\n",
    "            self.capitalize = capitalize\n",
    "            self.italic = italic\n",
    "            self.start = start\n",
    "\n",
    "        def covers(self, position):\n",
    "            return self.start <= position <= self.end\n",
    "\n",
    "    def get_range(self, start, end):\n",
    "        range = self.TextRange(start, end)\n",
    "        self.formatting.append(range)\n",
    "        return range\n",
    "\n",
    "    def __str__(self):\n",
    "        result = []\n",
    "        for i in range(len(self.plain_text)):\n",
    "            c = self.plain_text[i]\n",
    "            for r in self.formatting:\n",
    "                if r.covers(i) and r.capitalize:\n",
    "                    c = c.upper()\n",
    "            result.append(c)\n",
    "        return ''.join(result)\n",
    "\n",
    "\n",
    "if __name__ == '__main__':\n",
    "    ft = FormattedText('This is a brave new world')\n",
    "    ft.capitalize(10, 15)\n",
    "    print(ft)\n",
    "\n",
    "    bft = BetterFormattedText('This is a brave new world')\n",
    "    bft.get_range(16, 19).capitalize = True\n",
    "    print(bft)\n",
    "    \n",
    "    "
   ]
  },
  {
   "cell_type": "code",
   "execution_count": 22,
   "metadata": {},
   "outputs": [],
   "source": [
    "## TextRange is like a class attribute except that it is a class itself! \n",
    "##c=BetterFormattedText.TextRange(13,4)"
   ]
  },
  {
   "cell_type": "code",
   "execution_count": 30,
   "metadata": {},
   "outputs": [],
   "source": [
    "import unittest\n",
    "\n",
    "### provide an interface to capitalize a particular word in a sentence \n",
    "class Sentence:\n",
    "    def __init__(self, plain_text):\n",
    "        self.words = plain_text.split(' ')\n",
    "        self.tokens = {}\n",
    "    ## Sentence[i] will return a token class which could be capitalized\n",
    "    ## indicating that word number i in the sentence should be capitalized \n",
    "    def __getitem__(self, item):\n",
    "        wt = self.WordToken()\n",
    "        self.tokens[item] = wt\n",
    "        return self.tokens[item]\n",
    "\n",
    "    class WordToken:\n",
    "        def __init__(self, capitalize=False):\n",
    "            self.capitalize = capitalize\n",
    "\n",
    "    def __str__(self):\n",
    "        result = []\n",
    "        for i in range(len(self.words)):\n",
    "            w = self.words[i]\n",
    "            if i in self.tokens and self.tokens[i].capitalize:\n",
    "                w = w.upper()\n",
    "            result.append(w)\n",
    "        return ' '.join(result)\n",
    "\n",
    "\n",
    "class Evaluate(unittest.TestCase):\n",
    "    def test_exercise(self):\n",
    "        s = Sentence('alpha beta gamma')\n",
    "        s[1].capitalize = True\n",
    "        self.assertEqual(str(s), 'alpha BETA gamma')"
   ]
  },
  {
   "cell_type": "code",
   "execution_count": 26,
   "metadata": {},
   "outputs": [],
   "source": [
    " s = Sentence('alpha beta gamma')"
   ]
  },
  {
   "cell_type": "code",
   "execution_count": 29,
   "metadata": {},
   "outputs": [
    {
     "data": {
      "text/plain": [
       "{1: <__main__.Sentence.WordToken at 0x10c91c4a8>,\n",
       " 2: <__main__.Sentence.WordToken at 0x10c91c5c0>}"
      ]
     },
     "execution_count": 29,
     "metadata": {},
     "output_type": "execute_result"
    }
   ],
   "source": [
    "s.tokens"
   ]
  },
  {
   "cell_type": "code",
   "execution_count": null,
   "metadata": {},
   "outputs": [],
   "source": []
  }
 ],
 "metadata": {
  "kernelspec": {
   "display_name": "Python 3",
   "language": "python",
   "name": "python3"
  },
  "language_info": {
   "codemirror_mode": {
    "name": "ipython",
    "version": 3
   },
   "file_extension": ".py",
   "mimetype": "text/x-python",
   "name": "python",
   "nbconvert_exporter": "python",
   "pygments_lexer": "ipython3",
   "version": "3.6.7"
  }
 },
 "nbformat": 4,
 "nbformat_minor": 2
}
