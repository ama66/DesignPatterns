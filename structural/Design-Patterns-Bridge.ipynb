{
 "cells": [
  {
   "cell_type": "code",
   "execution_count": 3,
   "metadata": {},
   "outputs": [
    {
     "name": "stdout",
     "output_type": "stream",
     "text": [
      "Drawing a circle of radius 5\n",
      "Drawing a circle of radius 10\n"
     ]
    }
   ],
   "source": [
    "# Avoid explosion of classes! so customize the class by a specific renderer\n",
    "## The render itself can be of different types. The render can do a specific task\n",
    "## such as drawing according to some specs. The derived class will use the same interface\n",
    "## draw() regardless of the renderer being passed! \n",
    "# Circles and squares\n",
    "# Each can be rendered in vector or raster form\n",
    "\n",
    "class Renderer():\n",
    "    def render_circle(self, radius):\n",
    "        pass\n",
    "\n",
    "\n",
    "class VectorRenderer(Renderer):\n",
    "    def render_circle(self, radius):\n",
    "        print(f'Drawing a circle of radius {radius}')\n",
    "\n",
    "\n",
    "class RasterRenderer(Renderer):\n",
    "    def render_circle(self, radius):\n",
    "        print(f'Drawing pixels for circle of radius {radius}')\n",
    "\n",
    "\n",
    "class Shape:\n",
    "    def __init__(self, renderer):\n",
    "        self.renderer = renderer\n",
    "\n",
    "    def draw(self): pass\n",
    "    def resize(self, factor): pass\n",
    "\n",
    "\n",
    "class Circle(Shape):\n",
    "    def __init__(self, renderer, radius):\n",
    "        super().__init__(renderer)\n",
    "        self.radius = radius\n",
    "\n",
    "    def draw(self):\n",
    "        self.renderer.render_circle(self.radius)\n",
    "\n",
    "    def resize(self, factor):\n",
    "        self.radius *= factor\n",
    "\n",
    "\n",
    "if __name__ == '__main__':\n",
    "    raster = RasterRenderer()\n",
    "    vector = VectorRenderer()\n",
    "    circle = Circle(vector, 5)\n",
    "    circle.draw()\n",
    "    circle.resize(2)\n",
    "    circle.draw()"
   ]
  },
  {
   "cell_type": "code",
   "execution_count": 4,
   "metadata": {},
   "outputs": [
    {
     "name": "stdout",
     "output_type": "stream",
     "text": [
      "Drawing pixels for circle of radius 5\n"
     ]
    }
   ],
   "source": [
    "circle = Circle(raster, 5)\n",
    "circle.draw()"
   ]
  },
  {
   "cell_type": "code",
   "execution_count": 6,
   "metadata": {},
   "outputs": [],
   "source": [
    "# class Shape:\n",
    "#     def __init__(self):\n",
    "#         self.name = None\n",
    "#\n",
    "#\n",
    "# class Triangle(Shape):\n",
    "#     def __init__(self):\n",
    "#         super().__init__()\n",
    "#         self.name = 'Triangle'\n",
    "#\n",
    "#\n",
    "# class Square(Shape):\n",
    "#     def __init__(self):\n",
    "#         super().__init__()\n",
    "#         self.name = 'Square'\n",
    "#\n",
    "#\n",
    "# class VectorSquare(Square):\n",
    "#     def __str__(self):\n",
    "#         return f'Drawing {self.name} as lines'\n",
    "#\n",
    "#\n",
    "# class RasterSquare(Square):\n",
    "#     def __str__(self):\n",
    "#         return f'Drawing {self.name} as pixels'\n",
    "\n",
    "# imagine VectorTriangle and RasterTriangle are here too\n",
    "import unittest\n",
    "from abc import ABC\n",
    "\n",
    "\n",
    "class Renderer(ABC):\n",
    "    @property\n",
    "    def what_to_render_as(self):\n",
    "        return None\n",
    "\n",
    "\n",
    "class Shape(ABC):\n",
    "    def __init__(self, renderer, name):\n",
    "        self.renderer = renderer\n",
    "        self.name = name\n",
    "\n",
    "    def __str__(self):\n",
    "        return 'Drawing %s as %s' % (self.name, self.renderer.what_to_render_as)\n",
    "\n",
    "\n",
    "class Triangle(Shape):\n",
    "    def __init__(self, renderer):\n",
    "        super().__init__(renderer, 'Triangle')\n",
    "\n",
    "\n",
    "class Square(Shape):\n",
    "    def __init__(self, renderer):\n",
    "        super().__init__(renderer, 'Square')\n",
    "\n",
    "\n",
    "class RasterRenderer(Renderer):\n",
    "    @property\n",
    "    def what_to_render_as(self):\n",
    "        return 'pixels'\n",
    "\n",
    "\n",
    "class VectorRenderer(Renderer):\n",
    "    @property\n",
    "    def what_to_render_as(self):\n",
    "        return 'lines'\n",
    "\n",
    "\n",
    "class Evaluate(unittest.TestCase):\n",
    "    def test_square_vector(self):\n",
    "        sq = Square(VectorRenderer())\n",
    "        self.assertEqual(str(sq), 'Drawing Square as lines')\n",
    "\n",
    "    def test_pixel_triangle(self):\n",
    "        tr = Triangle(RasterRenderer())\n",
    "        self.assertEqual(str(tr), 'Drawing Triangle as pixels')\n"
   ]
  },
  {
   "cell_type": "code",
   "execution_count": 7,
   "metadata": {},
   "outputs": [
    {
     "data": {
      "text/plain": [
       "'Drawing Square as lines'"
      ]
     },
     "execution_count": 7,
     "metadata": {},
     "output_type": "execute_result"
    }
   ],
   "source": [
    "sq = Square(VectorRenderer())\n",
    "str(sq)"
   ]
  },
  {
   "cell_type": "code",
   "execution_count": 8,
   "metadata": {},
   "outputs": [
    {
     "name": "stdout",
     "output_type": "stream",
     "text": [
      "Drawing Square as lines\n"
     ]
    }
   ],
   "source": [
    "print(sq)"
   ]
  },
  {
   "cell_type": "code",
   "execution_count": 10,
   "metadata": {},
   "outputs": [
    {
     "data": {
      "text/plain": [
       "'Drawing Square as pixels'"
      ]
     },
     "execution_count": 10,
     "metadata": {},
     "output_type": "execute_result"
    }
   ],
   "source": [
    "str(Square(RasterRenderer()))"
   ]
  },
  {
   "cell_type": "code",
   "execution_count": null,
   "metadata": {},
   "outputs": [],
   "source": []
  }
 ],
 "metadata": {
  "kernelspec": {
   "display_name": "Python 3",
   "language": "python",
   "name": "python3"
  },
  "language_info": {
   "codemirror_mode": {
    "name": "ipython",
    "version": 3
   },
   "file_extension": ".py",
   "mimetype": "text/x-python",
   "name": "python",
   "nbconvert_exporter": "python",
   "pygments_lexer": "ipython3",
   "version": "3.6.7"
  }
 },
 "nbformat": 4,
 "nbformat_minor": 2
}
