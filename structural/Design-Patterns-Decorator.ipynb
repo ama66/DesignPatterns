{
 "cells": [
  {
   "cell_type": "code",
   "execution_count": 84,
   "metadata": {},
   "outputs": [
    {
     "name": "stdout",
     "output_type": "stream",
     "text": [
      "Starting op\n",
      "We are done\n",
      "some_op took 1002ms\n"
     ]
    }
   ],
   "source": [
    "## Python decorators are example of dp creeping into the language itself!\n",
    "import time\n",
    "\n",
    "def time_it(func):\n",
    "  def wrapper():\n",
    "    start = time.time()\n",
    "    result = func()\n",
    "    end = time.time()\n",
    "    print(f'{func.__name__} took {int((end-start)*1000)}ms')\n",
    "  return wrapper\n",
    "\n",
    "@time_it\n",
    "def some_op():\n",
    "  print('Starting op')\n",
    "  time.sleep(1)\n",
    "  print('We are done')\n",
    "  return 123\n",
    "\n",
    "if __name__ == '__main__':\n",
    "  # some_op()\n",
    "  # time_it(some_op)()\n",
    "  some_op()\n"
   ]
  },
  {
   "cell_type": "code",
   "execution_count": 85,
   "metadata": {},
   "outputs": [
    {
     "name": "stdout",
     "output_type": "stream",
     "text": [
      "A circle of radius 2\n",
      "A circle of radius 2 has the color red\n",
      "A circle of radius 2 has the color red has 50.0% transparency\n"
     ]
    },
    {
     "ename": "Exception",
     "evalue": "Cannot apply ColoredDecorator twice",
     "output_type": "error",
     "traceback": [
      "\u001b[0;31m---------------------------------------------------------------------------\u001b[0m",
      "\u001b[0;31mException\u001b[0m                                 Traceback (most recent call last)",
      "\u001b[0;32m<ipython-input-85-25353a33f07c>\u001b[0m in \u001b[0;36m<module>\u001b[0;34m()\u001b[0m\n\u001b[1;32m     61\u001b[0m \u001b[0;34m\u001b[0m\u001b[0m\n\u001b[1;32m     62\u001b[0m     \u001b[0;31m# nothing prevents double application\u001b[0m\u001b[0;34m\u001b[0m\u001b[0;34m\u001b[0m\u001b[0;34m\u001b[0m\u001b[0m\n\u001b[0;32m---> 63\u001b[0;31m     \u001b[0mmixed\u001b[0m \u001b[0;34m=\u001b[0m \u001b[0mColoredShape\u001b[0m\u001b[0;34m(\u001b[0m\u001b[0mColoredShape\u001b[0m\u001b[0;34m(\u001b[0m\u001b[0mCircle\u001b[0m\u001b[0;34m(\u001b[0m\u001b[0;36m3\u001b[0m\u001b[0;34m)\u001b[0m\u001b[0;34m,\u001b[0m \u001b[0;34m'red'\u001b[0m\u001b[0;34m)\u001b[0m\u001b[0;34m,\u001b[0m \u001b[0;34m'blue'\u001b[0m\u001b[0;34m)\u001b[0m\u001b[0;34m\u001b[0m\u001b[0;34m\u001b[0m\u001b[0m\n\u001b[0m\u001b[1;32m     64\u001b[0m     \u001b[0mprint\u001b[0m\u001b[0;34m(\u001b[0m\u001b[0mmixed\u001b[0m\u001b[0;34m)\u001b[0m\u001b[0;34m\u001b[0m\u001b[0;34m\u001b[0m\u001b[0m\n\u001b[1;32m     65\u001b[0m \u001b[0;34m\u001b[0m\u001b[0m\n",
      "\u001b[0;32m<ipython-input-85-25353a33f07c>\u001b[0m in \u001b[0;36m__init__\u001b[0;34m(self, shape, color)\u001b[0m\n\u001b[1;32m     30\u001b[0m     \u001b[0;32mdef\u001b[0m \u001b[0m__init__\u001b[0m\u001b[0;34m(\u001b[0m\u001b[0mself\u001b[0m\u001b[0;34m,\u001b[0m \u001b[0mshape\u001b[0m\u001b[0;34m,\u001b[0m \u001b[0mcolor\u001b[0m\u001b[0;34m)\u001b[0m\u001b[0;34m:\u001b[0m\u001b[0;34m\u001b[0m\u001b[0;34m\u001b[0m\u001b[0m\n\u001b[1;32m     31\u001b[0m         \u001b[0;32mif\u001b[0m \u001b[0misinstance\u001b[0m\u001b[0;34m(\u001b[0m\u001b[0mshape\u001b[0m\u001b[0;34m,\u001b[0m \u001b[0mColoredShape\u001b[0m\u001b[0;34m)\u001b[0m\u001b[0;34m:\u001b[0m\u001b[0;34m\u001b[0m\u001b[0;34m\u001b[0m\u001b[0m\n\u001b[0;32m---> 32\u001b[0;31m             \u001b[0;32mraise\u001b[0m \u001b[0mException\u001b[0m\u001b[0;34m(\u001b[0m\u001b[0;34m'Cannot apply ColoredDecorator twice'\u001b[0m\u001b[0;34m)\u001b[0m\u001b[0;34m\u001b[0m\u001b[0;34m\u001b[0m\u001b[0m\n\u001b[0m\u001b[1;32m     33\u001b[0m         \u001b[0mself\u001b[0m\u001b[0;34m.\u001b[0m\u001b[0mshape\u001b[0m \u001b[0;34m=\u001b[0m \u001b[0mshape\u001b[0m\u001b[0;34m\u001b[0m\u001b[0;34m\u001b[0m\u001b[0m\n\u001b[1;32m     34\u001b[0m         \u001b[0mself\u001b[0m\u001b[0;34m.\u001b[0m\u001b[0mcolor\u001b[0m \u001b[0;34m=\u001b[0m \u001b[0mcolor\u001b[0m\u001b[0;34m\u001b[0m\u001b[0;34m\u001b[0m\u001b[0m\n",
      "\u001b[0;31mException\u001b[0m: Cannot apply ColoredDecorator twice"
     ]
    }
   ],
   "source": [
    "## classic decorator class\n",
    "from abc import ABC\n",
    "\n",
    "\n",
    "class Shape(ABC):\n",
    "    def __str__(self):\n",
    "        return ''\n",
    "\n",
    "\n",
    "class Circle(Shape):\n",
    "    def __init__(self, radius=0.0):\n",
    "        self.radius = radius\n",
    "\n",
    "    def resize(self, factor):\n",
    "        self.radius *= factor\n",
    "\n",
    "    def __str__(self):\n",
    "        return f'A circle of radius {self.radius}'\n",
    "\n",
    "\n",
    "class Square(Shape):\n",
    "    def __init__(self, side):\n",
    "        self.side = side\n",
    "\n",
    "    def __str__(self):\n",
    "        return f'A square with side {self.side}'\n",
    "\n",
    "\n",
    "class ColoredShape(Shape):\n",
    "    def __init__(self, shape, color):\n",
    "        if isinstance(shape, ColoredShape):\n",
    "            raise Exception('Cannot apply ColoredDecorator twice')\n",
    "        self.shape = shape\n",
    "        self.color = color\n",
    "\n",
    "    def __str__(self):\n",
    "        return f'{self.shape} has the color {self.color}'\n",
    "\n",
    "\n",
    "class TransparentShape(Shape):\n",
    "    def __init__(self, shape, transparency):\n",
    "        self.shape = shape\n",
    "        self.transparency = transparency\n",
    "\n",
    "    def __str__(self):\n",
    "        return f'{self.shape} has {self.transparency * 100.0}% transparency'\n",
    "\n",
    "\n",
    "if __name__ == '__main__':\n",
    "    circle = Circle(2)\n",
    "    print(circle)\n",
    "\n",
    "    red_circle = ColoredShape(circle, \"red\")\n",
    "    print(red_circle)\n",
    "\n",
    "    # ColoredShape doesn't have resize()\n",
    "    # red_circle.resize(3)\n",
    "\n",
    "    red_half_transparent_square = TransparentShape(red_circle, 0.5)\n",
    "    print(red_half_transparent_square)\n",
    "\n",
    "    # nothing prevents double application\n",
    "    mixed = ColoredShape(ColoredShape(Circle(3), 'red'), 'blue')\n",
    "    print(mixed)\n",
    "\n",
    "    "
   ]
  },
  {
   "cell_type": "code",
   "execution_count": 86,
   "metadata": {},
   "outputs": [
    {
     "name": "stdout",
     "output_type": "stream",
     "text": [
      "A circle of radius 2 has the color red\n"
     ]
    }
   ],
   "source": [
    "red_circle = ColoredShape(circle, \"red\")\n",
    "print(red_circle)"
   ]
  },
  {
   "cell_type": "code",
   "execution_count": 87,
   "metadata": {},
   "outputs": [
    {
     "ename": "AttributeError",
     "evalue": "'ColoredShape' object has no attribute 'resize'",
     "output_type": "error",
     "traceback": [
      "\u001b[0;31m---------------------------------------------------------------------------\u001b[0m",
      "\u001b[0;31mAttributeError\u001b[0m                            Traceback (most recent call last)",
      "\u001b[0;32m<ipython-input-87-255391c6f03d>\u001b[0m in \u001b[0;36m<module>\u001b[0;34m()\u001b[0m\n\u001b[1;32m      3\u001b[0m \u001b[0;31m## access to all the underlying functionality of the baseclasss. This is address in dynamic decorators next.\u001b[0m\u001b[0;34m\u001b[0m\u001b[0;34m\u001b[0m\u001b[0;34m\u001b[0m\u001b[0m\n\u001b[1;32m      4\u001b[0m \u001b[0;34m\u001b[0m\u001b[0m\n\u001b[0;32m----> 5\u001b[0;31m \u001b[0mred_circle\u001b[0m\u001b[0;34m.\u001b[0m\u001b[0mresize\u001b[0m\u001b[0;34m(\u001b[0m\u001b[0;36m3\u001b[0m\u001b[0;34m)\u001b[0m\u001b[0;34m\u001b[0m\u001b[0;34m\u001b[0m\u001b[0m\n\u001b[0m",
      "\u001b[0;31mAttributeError\u001b[0m: 'ColoredShape' object has no attribute 'resize'"
     ]
    }
   ],
   "source": [
    "## Even though the decorated circle is related to the circle class it does not \n",
    "## inherit all its functionality and that is a big drawback of decorators. you do not hace\n",
    "## access to all the underlying functionality of the baseclasss. This is address in dynamic decorators next.\n",
    "\n",
    "red_circle.resize(3)"
   ]
  },
  {
   "cell_type": "code",
   "execution_count": 88,
   "metadata": {},
   "outputs": [
    {
     "name": "stdout",
     "output_type": "stream",
     "text": [
      "Corey\n",
      "Corey.Schafer@email.com\n",
      "Corey Schafer\n",
      "Delete Name!\n"
     ]
    }
   ],
   "source": [
    "## -hasattr() check if a class has some attribute\n",
    "# getattr(), find the value of a specified attribute of a class \n",
    "## setattr(), define a new attribute of a class \n",
    "## delattr(), delete some attribute of a class\n",
    "## issubclass(A,B) is A a subclass of B ?\n",
    "## Getters, Setters and deleters of properties \n",
    "class Employee:\n",
    "\n",
    "    def __init__(self, first, last):\n",
    "        self.first = first\n",
    "        self.last = last\n",
    "\n",
    "    @property\n",
    "    def email(self):\n",
    "        return '{}.{}@email.com'.format(self.first, self.last)\n",
    "\n",
    "    @property\n",
    "    def fullname(self):\n",
    "        return '{} {}'.format(self.first, self.last)\n",
    "    \n",
    "    @fullname.setter\n",
    "    def fullname(self, name):\n",
    "        first, last = name.split(' ')\n",
    "        self.first = first\n",
    "        self.last = last\n",
    "    \n",
    "    @fullname.deleter\n",
    "    def fullname(self):\n",
    "        print('Delete Name!')\n",
    "        self.first = None\n",
    "        self.last = None\n",
    "\n",
    "\n",
    "emp_1 = Employee('John', 'Smith')\n",
    "emp_1.fullname = \"Corey Schafer\"\n",
    "\n",
    "print(emp_1.first)\n",
    "print(emp_1.email)\n",
    "print(emp_1.fullname)\n",
    "\n",
    "del emp_1.fullname"
   ]
  },
  {
   "cell_type": "code",
   "execution_count": 90,
   "metadata": {},
   "outputs": [
    {
     "data": {
      "text/plain": [
       "'None None'"
      ]
     },
     "execution_count": 90,
     "metadata": {},
     "output_type": "execute_result"
    }
   ],
   "source": [
    " emp_1.fullname"
   ]
  },
  {
   "cell_type": "code",
   "execution_count": 91,
   "metadata": {},
   "outputs": [
    {
     "name": "stdout",
     "output_type": "stream",
     "text": [
      "5\n"
     ]
    },
    {
     "ename": "AttributeError",
     "evalue": "'SomeObject' object has no attribute 'x'",
     "output_type": "error",
     "traceback": [
      "\u001b[0;31m---------------------------------------------------------------------------\u001b[0m",
      "\u001b[0;31mAttributeError\u001b[0m                            Traceback (most recent call last)",
      "\u001b[0;32m<ipython-input-91-d62ac235a05a>\u001b[0m in \u001b[0;36m<module>\u001b[0;34m()\u001b[0m\n\u001b[1;32m      5\u001b[0m \u001b[0mprint\u001b[0m\u001b[0;34m(\u001b[0m\u001b[0mobj\u001b[0m\u001b[0;34m.\u001b[0m\u001b[0mx\u001b[0m\u001b[0;34m)\u001b[0m\u001b[0;34m\u001b[0m\u001b[0;34m\u001b[0m\u001b[0m\n\u001b[1;32m      6\u001b[0m \u001b[0;32mdel\u001b[0m \u001b[0mobj\u001b[0m\u001b[0;34m.\u001b[0m\u001b[0mx\u001b[0m\u001b[0;34m\u001b[0m\u001b[0;34m\u001b[0m\u001b[0m\n\u001b[0;32m----> 7\u001b[0;31m \u001b[0mprint\u001b[0m\u001b[0;34m(\u001b[0m\u001b[0mobj\u001b[0m\u001b[0;34m.\u001b[0m\u001b[0mx\u001b[0m\u001b[0;34m)\u001b[0m\u001b[0;34m\u001b[0m\u001b[0;34m\u001b[0m\u001b[0m\n\u001b[0m",
      "\u001b[0;31mAttributeError\u001b[0m: 'SomeObject' object has no attribute 'x'"
     ]
    }
   ],
   "source": [
    "class SomeObject:\n",
    "    pass\n",
    "obj=SomeObject()\n",
    "obj.x=5\n",
    "print(obj.x)\n",
    "del obj.x\n",
    "print(obj.x)\n"
   ]
  },
  {
   "cell_type": "code",
   "execution_count": 92,
   "metadata": {},
   "outputs": [
    {
     "name": "stdout",
     "output_type": "stream",
     "text": [
      "10\n"
     ]
    }
   ],
   "source": [
    "setattr(obj,'x',10)\n",
    "print(obj.x)"
   ]
  },
  {
   "cell_type": "code",
   "execution_count": null,
   "metadata": {},
   "outputs": [],
   "source": [
    "print(getattr(obj,'x'))"
   ]
  },
  {
   "cell_type": "code",
   "execution_count": null,
   "metadata": {},
   "outputs": [],
   "source": [
    "del obj.x\n",
    "print(getattr(obj,'x',1000))"
   ]
  },
  {
   "cell_type": "code",
   "execution_count": null,
   "metadata": {},
   "outputs": [],
   "source": [
    "print(obj.x)"
   ]
  },
  {
   "cell_type": "code",
   "execution_count": null,
   "metadata": {},
   "outputs": [],
   "source": [
    "setattr(obj,'x',10)\n",
    "obj.x"
   ]
  },
  {
   "cell_type": "code",
   "execution_count": null,
   "metadata": {},
   "outputs": [],
   "source": [
    "delattr(obj,'x')\n",
    "obj.x"
   ]
  },
  {
   "cell_type": "code",
   "execution_count": 118,
   "metadata": {},
   "outputs": [
    {
     "name": "stdout",
     "output_type": "stream",
     "text": [
      "wrote 2 lines\n"
     ]
    }
   ],
   "source": [
    "## Dynamic Decorators\n",
    "## FileWithLoggingclass does not inherit from a file class. We can however proxy or forward calls to the \n",
    "## underlying file object. Otherwise we mayhave to copy all the underlying object attributes in the decorator class\n",
    "\n",
    "class FileWithLogging:\n",
    "  def __init__(self, file):\n",
    "    self.file = file\n",
    "  \n",
    "  def writelines(self, strings):\n",
    "    self.file.writelines(strings)\n",
    "    print(f'wrote {len(strings)} lines')\n",
    "\n",
    "  def __iter__(self):\n",
    "    return self.file.__iter__()\n",
    "\n",
    "  def __next__(self):\n",
    "    return self.file.__next__()\n",
    "\n",
    "  def __getattr__(self, item):\n",
    "    return getattr(self.__dict__['file'], item)\n",
    "\n",
    "  def __setattr__(self, key, value):\n",
    "    if key == 'file':\n",
    "      self.__dict__[key] = value\n",
    "    else:\n",
    "      setattr(self.__dict__['file'], key,value)\n",
    "\n",
    "  def __delattr__(self, item):\n",
    "    delattr(self.__dict__['file'], item)\n",
    "\n",
    "\n",
    "if __name__ == '__main__':\n",
    "  file = FileWithLogging(open('hello.txt', 'w'))\n",
    "  file.writelines(['hello', 'world'])\n",
    "  file.write('testing')\n",
    "  file.close()\n"
   ]
  },
  {
   "cell_type": "code",
   "execution_count": 112,
   "metadata": {},
   "outputs": [],
   "source": [
    "class Car(list):\n",
    "    def __init__(self,make,model, year):\n",
    "        self.make=make\n",
    "        self.model=model\n",
    "        self.year=year\n",
    "        \n",
    "    def honk(self):\n",
    "        print(\"beeb beep!\")\n",
    "        \n",
    "    def __iter__(self):\n",
    "        yield self\n",
    "    \n",
    "        \n",
    "        \n",
    "class TransportTruck:\n",
    "  def __init__(self, car):\n",
    "    self.car=car\n",
    "    \n",
    "    \n",
    "  \n",
    "  def honk(self):\n",
    "    self.car.honk()\n",
    "    print('transporting car honks')\n",
    "\n",
    "  def __iter__(self):\n",
    "    return self.car.__iter__()\n",
    "\n",
    "  def __getattr__(self, item):\n",
    "    return getattr(self.__dict__['car'], item)\n",
    "\n",
    "  def __setattr__(self, key, value):\n",
    "    if key == 'car':\n",
    "      self.__dict__[key] = value\n",
    "    else:\n",
    "      setattr(self.__dict__['car'], key,value)\n",
    "\n",
    "#   def __delattr__(self, item):\n",
    "#     delattr(self.__dict__['file'], item)\n"
   ]
  },
  {
   "cell_type": "code",
   "execution_count": 113,
   "metadata": {},
   "outputs": [
    {
     "name": "stdout",
     "output_type": "stream",
     "text": [
      "beeb beep!\n",
      "transporting car honks\n"
     ]
    }
   ],
   "source": [
    "toyota=Car(\"Toyotta\",\"Camry\",2016)\n",
    "truck=TransportTruck(toyota)\n",
    "truck.honk()"
   ]
  },
  {
   "cell_type": "code",
   "execution_count": 114,
   "metadata": {},
   "outputs": [
    {
     "name": "stdout",
     "output_type": "stream",
     "text": [
      "Toyotta\n"
     ]
    }
   ],
   "source": [
    "for g in toyota:\n",
    "    print(g.make)"
   ]
  },
  {
   "cell_type": "code",
   "execution_count": 108,
   "metadata": {},
   "outputs": [
    {
     "name": "stdout",
     "output_type": "stream",
     "text": [
      "Toyotta\n"
     ]
    }
   ],
   "source": [
    "for g in truck:\n",
    "    print(g.make)"
   ]
  },
  {
   "cell_type": "code",
   "execution_count": 98,
   "metadata": {},
   "outputs": [
    {
     "data": {
      "text/plain": [
       "'Camry'"
      ]
     },
     "execution_count": 98,
     "metadata": {},
     "output_type": "execute_result"
    }
   ],
   "source": [
    "toyota.model"
   ]
  },
  {
   "cell_type": "code",
   "execution_count": 99,
   "metadata": {},
   "outputs": [
    {
     "data": {
      "text/plain": [
       "'Camry'"
      ]
     },
     "execution_count": 99,
     "metadata": {},
     "output_type": "execute_result"
    }
   ],
   "source": [
    "truck.model"
   ]
  },
  {
   "cell_type": "code",
   "execution_count": 100,
   "metadata": {},
   "outputs": [],
   "source": [
    "truck.car.width=10\n"
   ]
  },
  {
   "cell_type": "code",
   "execution_count": 101,
   "metadata": {},
   "outputs": [
    {
     "data": {
      "text/plain": [
       "10"
      ]
     },
     "execution_count": 101,
     "metadata": {},
     "output_type": "execute_result"
    }
   ],
   "source": [
    "truck.car.width"
   ]
  },
  {
   "cell_type": "code",
   "execution_count": 102,
   "metadata": {},
   "outputs": [
    {
     "data": {
      "text/plain": [
       "{'car': [[...]]}"
      ]
     },
     "execution_count": 102,
     "metadata": {},
     "output_type": "execute_result"
    }
   ],
   "source": [
    "truck.__dict__"
   ]
  },
  {
   "cell_type": "code",
   "execution_count": 115,
   "metadata": {},
   "outputs": [],
   "source": [
    "class wheel:\n",
    "    pass\n",
    "w=wheel()\n",
    "truck.w=\"axel\"\n",
    "    "
   ]
  },
  {
   "cell_type": "code",
   "execution_count": 116,
   "metadata": {},
   "outputs": [
    {
     "data": {
      "text/plain": [
       "{'car': [[...]]}"
      ]
     },
     "execution_count": 116,
     "metadata": {},
     "output_type": "execute_result"
    }
   ],
   "source": [
    "truck.__dict__"
   ]
  },
  {
   "cell_type": "code",
   "execution_count": 117,
   "metadata": {},
   "outputs": [
    {
     "data": {
      "text/plain": [
       "{'make': 'Toyotta', 'model': 'Camry', 'w': 'axel', 'year': 2016}"
      ]
     },
     "execution_count": 117,
     "metadata": {},
     "output_type": "execute_result"
    }
   ],
   "source": [
    "truck.car.__dict__"
   ]
  },
  {
   "cell_type": "code",
   "execution_count": 121,
   "metadata": {},
   "outputs": [],
   "source": [
    "from unittest import TestCase\n",
    "\n",
    "class Circle:\n",
    "  def __init__(self, radius):\n",
    "    self.radius = radius\n",
    "\n",
    "  def resize(self, factor):\n",
    "    self.radius *= factor\n",
    "\n",
    "  def __str__(self):\n",
    "    return 'A circle of radius %s' % self.radius\n",
    "\n",
    "class Square:\n",
    "  def __init__(self, side):\n",
    "    self.side = side\n",
    "\n",
    "  def __str__(self):\n",
    "    return 'A square with side %s' % self.side\n",
    "\n",
    "\n",
    "class ColoredShape:\n",
    "  def __init__(self, shape, color):\n",
    "    self.color = color\n",
    "    self.shape = shape\n",
    "# callable() in Python. In general, a callable is something that can be called. This built-in method \n",
    "# in Python checks and returns True if the object passed appears to be callable, but may not be, \n",
    "# otherwise False.\n",
    "  def resize(self, factor):\n",
    "    r = getattr(self.shape, 'resize', None)\n",
    "    if callable(r):\n",
    "      self.shape.resize(factor)\n",
    "\n",
    "  def __str__(self):\n",
    "    return \"%s has the color %s\" %\\\n",
    "           (self.shape, self.color)\n",
    "\n",
    "class Evaluate(TestCase):\n",
    "  def test_circle(self):\n",
    "    circle = ColoredShape(Circle(5), 'red')\n",
    "    self.assertEqual(\n",
    "      'A circle of radius 5 has the color red',\n",
    "      str(circle)\n",
    "    )\n",
    "    circle.resize(2)\n",
    "    self.assertEqual(\n",
    "      'A circle of radius 10 has the color red',\n",
    "      str(circle)\n",
    "    )\n",
    "\n",
    "  def test_no_resize_in_square(self):\n",
    "    square = Square(4)\n",
    "    r = getattr(square, 'resize', None)\n",
    "    self.assertFalse(callable(r),\n",
    "                     'Please do not add resize() to Square')\n",
    "\n",
    "  def test_square(self):\n",
    "    square = ColoredShape(Square(2), 'blue')\n",
    "    self.assertEqual(\n",
    "      'A square with side 2 has the color blue',\n",
    "      str(square)\n",
    "    )\n",
    "    square.resize(2)\n",
    "    self.assertEqual(\n",
    "      'A square with side 2 has the color blue',\n",
    "      str(square)\n",
    "    )"
   ]
  },
  {
   "cell_type": "code",
   "execution_count": null,
   "metadata": {},
   "outputs": [],
   "source": []
  }
 ],
 "metadata": {
  "kernelspec": {
   "display_name": "Python 3",
   "language": "python",
   "name": "python3"
  },
  "language_info": {
   "codemirror_mode": {
    "name": "ipython",
    "version": 3
   },
   "file_extension": ".py",
   "mimetype": "text/x-python",
   "name": "python",
   "nbconvert_exporter": "python",
   "pygments_lexer": "ipython3",
   "version": "3.6.7"
  }
 },
 "nbformat": 4,
 "nbformat_minor": 2
}
