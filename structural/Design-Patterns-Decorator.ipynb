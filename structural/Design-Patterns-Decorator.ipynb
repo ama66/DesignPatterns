{
 "cells": [
  {
   "cell_type": "code",
   "execution_count": 1,
   "metadata": {},
   "outputs": [
    {
     "name": "stdout",
     "output_type": "stream",
     "text": [
      "Starting op\n",
      "We are done\n",
      "some_op took 1004ms\n"
     ]
    }
   ],
   "source": [
    "## Python decorators are example of dp creeping into the language itself!\n",
    "import time\n",
    "\n",
    "def time_it(func):\n",
    "  def wrapper():\n",
    "    start = time.time()\n",
    "    result = func()\n",
    "    end = time.time()\n",
    "    print(f'{func.__name__} took {int((end-start)*1000)}ms')\n",
    "  return wrapper\n",
    "\n",
    "@time_it\n",
    "def some_op():\n",
    "  print('Starting op')\n",
    "  time.sleep(1)\n",
    "  print('We are done')\n",
    "  return 123\n",
    "\n",
    "if __name__ == '__main__':\n",
    "  # some_op()\n",
    "  # time_it(some_op)()\n",
    "  some_op()\n"
   ]
  },
  {
   "cell_type": "code",
   "execution_count": 2,
   "metadata": {},
   "outputs": [
    {
     "name": "stdout",
     "output_type": "stream",
     "text": [
      "A circle of radius 2\n",
      "A circle of radius 2 has the color red\n",
      "A circle of radius 2 has the color red has 50.0% transparency\n"
     ]
    },
    {
     "ename": "Exception",
     "evalue": "Cannot apply ColoredDecorator twice",
     "output_type": "error",
     "traceback": [
      "\u001b[0;31m---------------------------------------------------------------------------\u001b[0m",
      "\u001b[0;31mException\u001b[0m                                 Traceback (most recent call last)",
      "\u001b[0;32m<ipython-input-2-25353a33f07c>\u001b[0m in \u001b[0;36m<module>\u001b[0;34m()\u001b[0m\n\u001b[1;32m     61\u001b[0m \u001b[0;34m\u001b[0m\u001b[0m\n\u001b[1;32m     62\u001b[0m     \u001b[0;31m# nothing prevents double application\u001b[0m\u001b[0;34m\u001b[0m\u001b[0;34m\u001b[0m\u001b[0;34m\u001b[0m\u001b[0m\n\u001b[0;32m---> 63\u001b[0;31m     \u001b[0mmixed\u001b[0m \u001b[0;34m=\u001b[0m \u001b[0mColoredShape\u001b[0m\u001b[0;34m(\u001b[0m\u001b[0mColoredShape\u001b[0m\u001b[0;34m(\u001b[0m\u001b[0mCircle\u001b[0m\u001b[0;34m(\u001b[0m\u001b[0;36m3\u001b[0m\u001b[0;34m)\u001b[0m\u001b[0;34m,\u001b[0m \u001b[0;34m'red'\u001b[0m\u001b[0;34m)\u001b[0m\u001b[0;34m,\u001b[0m \u001b[0;34m'blue'\u001b[0m\u001b[0;34m)\u001b[0m\u001b[0;34m\u001b[0m\u001b[0;34m\u001b[0m\u001b[0m\n\u001b[0m\u001b[1;32m     64\u001b[0m     \u001b[0mprint\u001b[0m\u001b[0;34m(\u001b[0m\u001b[0mmixed\u001b[0m\u001b[0;34m)\u001b[0m\u001b[0;34m\u001b[0m\u001b[0;34m\u001b[0m\u001b[0m\n\u001b[1;32m     65\u001b[0m \u001b[0;34m\u001b[0m\u001b[0m\n",
      "\u001b[0;32m<ipython-input-2-25353a33f07c>\u001b[0m in \u001b[0;36m__init__\u001b[0;34m(self, shape, color)\u001b[0m\n\u001b[1;32m     30\u001b[0m     \u001b[0;32mdef\u001b[0m \u001b[0m__init__\u001b[0m\u001b[0;34m(\u001b[0m\u001b[0mself\u001b[0m\u001b[0;34m,\u001b[0m \u001b[0mshape\u001b[0m\u001b[0;34m,\u001b[0m \u001b[0mcolor\u001b[0m\u001b[0;34m)\u001b[0m\u001b[0;34m:\u001b[0m\u001b[0;34m\u001b[0m\u001b[0;34m\u001b[0m\u001b[0m\n\u001b[1;32m     31\u001b[0m         \u001b[0;32mif\u001b[0m \u001b[0misinstance\u001b[0m\u001b[0;34m(\u001b[0m\u001b[0mshape\u001b[0m\u001b[0;34m,\u001b[0m \u001b[0mColoredShape\u001b[0m\u001b[0;34m)\u001b[0m\u001b[0;34m:\u001b[0m\u001b[0;34m\u001b[0m\u001b[0;34m\u001b[0m\u001b[0m\n\u001b[0;32m---> 32\u001b[0;31m             \u001b[0;32mraise\u001b[0m \u001b[0mException\u001b[0m\u001b[0;34m(\u001b[0m\u001b[0;34m'Cannot apply ColoredDecorator twice'\u001b[0m\u001b[0;34m)\u001b[0m\u001b[0;34m\u001b[0m\u001b[0;34m\u001b[0m\u001b[0m\n\u001b[0m\u001b[1;32m     33\u001b[0m         \u001b[0mself\u001b[0m\u001b[0;34m.\u001b[0m\u001b[0mshape\u001b[0m \u001b[0;34m=\u001b[0m \u001b[0mshape\u001b[0m\u001b[0;34m\u001b[0m\u001b[0;34m\u001b[0m\u001b[0m\n\u001b[1;32m     34\u001b[0m         \u001b[0mself\u001b[0m\u001b[0;34m.\u001b[0m\u001b[0mcolor\u001b[0m \u001b[0;34m=\u001b[0m \u001b[0mcolor\u001b[0m\u001b[0;34m\u001b[0m\u001b[0;34m\u001b[0m\u001b[0m\n",
      "\u001b[0;31mException\u001b[0m: Cannot apply ColoredDecorator twice"
     ]
    }
   ],
   "source": [
    "## classic decorator class\n",
    "from abc import ABC\n",
    "\n",
    "\n",
    "class Shape(ABC):\n",
    "    def __str__(self):\n",
    "        return ''\n",
    "\n",
    "\n",
    "class Circle(Shape):\n",
    "    def __init__(self, radius=0.0):\n",
    "        self.radius = radius\n",
    "\n",
    "    def resize(self, factor):\n",
    "        self.radius *= factor\n",
    "\n",
    "    def __str__(self):\n",
    "        return f'A circle of radius {self.radius}'\n",
    "\n",
    "\n",
    "class Square(Shape):\n",
    "    def __init__(self, side):\n",
    "        self.side = side\n",
    "\n",
    "    def __str__(self):\n",
    "        return f'A square with side {self.side}'\n",
    "\n",
    "\n",
    "class ColoredShape(Shape):\n",
    "    def __init__(self, shape, color):\n",
    "        if isinstance(shape, ColoredShape):\n",
    "            raise Exception('Cannot apply ColoredDecorator twice')\n",
    "        self.shape = shape\n",
    "        self.color = color\n",
    "\n",
    "    def __str__(self):\n",
    "        return f'{self.shape} has the color {self.color}'\n",
    "\n",
    "\n",
    "class TransparentShape(Shape):\n",
    "    def __init__(self, shape, transparency):\n",
    "        self.shape = shape\n",
    "        self.transparency = transparency\n",
    "\n",
    "    def __str__(self):\n",
    "        return f'{self.shape} has {self.transparency * 100.0}% transparency'\n",
    "\n",
    "\n",
    "if __name__ == '__main__':\n",
    "    circle = Circle(2)\n",
    "    print(circle)\n",
    "\n",
    "    red_circle = ColoredShape(circle, \"red\")\n",
    "    print(red_circle)\n",
    "\n",
    "    # ColoredShape doesn't have resize()\n",
    "    # red_circle.resize(3)\n",
    "\n",
    "    red_half_transparent_square = TransparentShape(red_circle, 0.5)\n",
    "    print(red_half_transparent_square)\n",
    "\n",
    "    # nothing prevents double application\n",
    "    mixed = ColoredShape(ColoredShape(Circle(3), 'red'), 'blue')\n",
    "    print(mixed)\n",
    "\n",
    "    "
   ]
  },
  {
   "cell_type": "code",
   "execution_count": null,
   "metadata": {},
   "outputs": [],
   "source": []
  }
 ],
 "metadata": {
  "kernelspec": {
   "display_name": "Python 3",
   "language": "python",
   "name": "python3"
  },
  "language_info": {
   "codemirror_mode": {
    "name": "ipython",
    "version": 3
   },
   "file_extension": ".py",
   "mimetype": "text/x-python",
   "name": "python",
   "nbconvert_exporter": "python",
   "pygments_lexer": "ipython3",
   "version": "3.6.7"
  }
 },
 "nbformat": 4,
 "nbformat_minor": 2
}
