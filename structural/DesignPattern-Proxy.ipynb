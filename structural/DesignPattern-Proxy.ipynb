{
 "cells": [
  {
   "cell_type": "code",
   "execution_count": 1,
   "metadata": {},
   "outputs": [
    {
     "name": "stdout",
     "output_type": "stream",
     "text": [
      "Driver too young\n"
     ]
    }
   ],
   "source": [
    "## Protection Proxy\n",
    "## Car Proxy looks to the outside world as just another car! but in reality it is doing this age check\n",
    "## and preventing us from the drive functionality if the driver age is below 16  y.o. \n",
    "\n",
    "class Car:\n",
    "    def __init__(self, driver):\n",
    "        self.driver = driver\n",
    "\n",
    "    def drive(self):\n",
    "        print(f'Car being driven by {self.driver.name}')\n",
    "\n",
    "class CarProxy:\n",
    "    def __init__(self, driver):\n",
    "        self.driver = driver\n",
    "        self.car = Car(driver)\n",
    "\n",
    "    def drive(self):\n",
    "        if self.driver.age >= 16:\n",
    "            self.car.drive()\n",
    "        else:\n",
    "            print('Driver too young')\n",
    "\n",
    "\n",
    "class Driver:\n",
    "    def __init__(self, name, age):\n",
    "        self.name = name\n",
    "        self.age = age\n",
    "\n",
    "\n",
    "if __name__ == '__main__':\n",
    "    car = CarProxy(Driver('John', 12))\n",
    "    car.drive()\n",
    "    \n",
    "    "
   ]
  },
  {
   "cell_type": "code",
   "execution_count": 4,
   "metadata": {},
   "outputs": [
    {
     "name": "stdout",
     "output_type": "stream",
     "text": [
      "About to draw image\n",
      "Loading image from facepalm.jpg\n",
      "Drawing image facepalm.jpg\n",
      "Done drawing image\n",
      "About to draw image\n",
      "Drawing image facepalm.jpg\n",
      "Done drawing image\n"
     ]
    }
   ],
   "source": [
    "## Virtual Proxy\n",
    "\n",
    "class Bitmap:\n",
    "    def __init__(self, filename):\n",
    "        self.filename = filename\n",
    "        print(f'Loading image from {filename}')\n",
    "\n",
    "    def draw(self):\n",
    "        print(f'Drawing image {self.filename}')\n",
    "\n",
    "\n",
    "class LazyBitmap:\n",
    "    def __init__(self, filename):\n",
    "        self.filename = filename\n",
    "        self.bitmap = None\n",
    "\n",
    "    def draw(self):\n",
    "        if not self.bitmap:\n",
    "            self.bitmap = Bitmap(self.filename)\n",
    "        self.bitmap.draw()\n",
    "\n",
    "def draw_image(image):\n",
    "    print('About to draw image')\n",
    "    image.draw()\n",
    "    print('Done drawing image')\n",
    "\n",
    "if __name__ == '__main__':\n",
    "    bmp = LazyBitmap('facepalm.jpg')  # Bitmap\n",
    "    draw_image(bmp)\n",
    "    ## See next time we call the draw_image we do not load the image file! \n",
    "    ## so it is kind of lazy loading !\n",
    "    draw_image(bmp)\n",
    "\n",
    "\n",
    "    \n",
    "    "
   ]
  },
  {
   "cell_type": "code",
   "execution_count": 5,
   "metadata": {},
   "outputs": [],
   "source": [
    "from unittest import TestCase\n",
    "\n",
    "class Person:\n",
    "  def __init__(self, age):\n",
    "    self.age = age\n",
    "\n",
    "  def drink(self):\n",
    "    return 'drinking'\n",
    "\n",
    "  def drive(self):\n",
    "    return 'driving'\n",
    "\n",
    "  def drink_and_drive(self):\n",
    "    return 'driving while drunk'\n",
    "\n",
    "class ResponsiblePerson:\n",
    "  def __init__(self, person):\n",
    "    self.person = person\n",
    "\n",
    "  @property\n",
    "  def age(self):\n",
    "    return self.person.age\n",
    "\n",
    "  @age.setter\n",
    "  def age(self, value):\n",
    "    self.person.age = value\n",
    "\n",
    "  def drink(self):\n",
    "    if self.age >= 18:\n",
    "      return self.person.drink()\n",
    "    return 'too young'\n",
    "\n",
    "  def drive(self):\n",
    "    if self.age >= 16:\n",
    "      return self.person.drive()\n",
    "    return 'too young'\n",
    "\n",
    "  def drink_and_drive(self):\n",
    "    return 'dead'\n",
    "\n",
    "class Evaluate(TestCase):\n",
    "  def test_exercise(self):\n",
    "    p = Person(10)\n",
    "    rp = ResponsiblePerson(p)\n",
    "\n",
    "    self.assertEqual('too young', rp.drive())\n",
    "    self.assertEqual('too young', rp.drink())\n",
    "    self.assertEqual('dead', rp.drink_and_drive())\n",
    "\n",
    "    rp.age = 20\n",
    "\n",
    "    self.assertEqual('driving', rp.drive())\n",
    "    self.assertEqual('drinking', rp.drink())\n",
    "    self.assertEqual('dead', rp.drink_and_drive())"
   ]
  },
  {
   "cell_type": "code",
   "execution_count": 7,
   "metadata": {},
   "outputs": [
    {
     "data": {
      "text/plain": [
       "'too young'"
      ]
     },
     "execution_count": 7,
     "metadata": {},
     "output_type": "execute_result"
    }
   ],
   "source": [
    "p = Person(10)\n",
    "rp = ResponsiblePerson(p)\n",
    "rp.drive()"
   ]
  },
  {
   "cell_type": "code",
   "execution_count": 8,
   "metadata": {},
   "outputs": [
    {
     "data": {
      "text/plain": [
       "'dead'"
      ]
     },
     "execution_count": 8,
     "metadata": {},
     "output_type": "execute_result"
    }
   ],
   "source": [
    "rp.drink_and_drive()"
   ]
  },
  {
   "cell_type": "code",
   "execution_count": null,
   "metadata": {},
   "outputs": [],
   "source": []
  }
 ],
 "metadata": {
  "kernelspec": {
   "display_name": "Python 3",
   "language": "python",
   "name": "python3"
  },
  "language_info": {
   "codemirror_mode": {
    "name": "ipython",
    "version": 3
   },
   "file_extension": ".py",
   "mimetype": "text/x-python",
   "name": "python",
   "nbconvert_exporter": "python",
   "pygments_lexer": "ipython3",
   "version": "3.6.7"
  }
 },
 "nbformat": 4,
 "nbformat_minor": 2
}
