{
 "cells": [
  {
   "cell_type": "code",
   "execution_count": 51,
   "metadata": {},
   "outputs": [
    {
     "name": "stdout",
     "output_type": "stream",
     "text": [
      "My Drawing\n",
      "*RedSquare\n",
      "*YellowCircle\n",
      "*Group\n",
      "**BlueCircle\n",
      "**BlueSquare\n",
      "\n"
     ]
    }
   ],
   "source": [
    "## Composite is when you wanna try a single object or a group of objects using the same interface.\n",
    "## this graphic object for example may have children (like in a tree structure). Its print function \n",
    "## uses recursion to traverse the tree and print all children (the children themselves could be single\n",
    "## or group objects and hence why recursion is needed )\n",
    "class GraphicObject:\n",
    "    def __init__(self, color=None):\n",
    "        self.color = color\n",
    "        self.children = []\n",
    "        self._name = 'Group'\n",
    "\n",
    "    @property\n",
    "    def name(self):\n",
    "        return self._name\n",
    "\n",
    "    def _print(self, items, depth):\n",
    "        items.append('*' * depth)\n",
    "        if self.color:\n",
    "            items.append(self.color)\n",
    "        items.append(f'{self.name}\\n')\n",
    "       \n",
    "        for child in self.children:\n",
    "            child._print(items, depth + 1)\n",
    "\n",
    "    def __str__(self):\n",
    "        items = []\n",
    "        ## items is kind of like global variable! \n",
    "        # it gets populated as a side effect of calling _print \n",
    "        self._print(items, 0)\n",
    "    \n",
    "        return ''.join(items)\n",
    "\n",
    "\n",
    "class Circle(GraphicObject):\n",
    "    @property\n",
    "    def name(self):\n",
    "        return 'Circle'\n",
    "\n",
    "\n",
    "class Square(GraphicObject):\n",
    "    @property\n",
    "    def name(self):\n",
    "        return 'Square'\n",
    "\n",
    "\n",
    "if __name__ == '__main__':\n",
    "    ## graph objects contain single objects like red square, yellow circle but could also include group\n",
    "    ## of objects\n",
    "    drawing = GraphicObject()\n",
    "    drawing._name = 'My Drawing'\n",
    "    drawing.children.append(Square('Red'))\n",
    "    drawing.children.append(Circle('Yellow'))\n",
    "\n",
    "    group = GraphicObject()  # no name\n",
    "    group.children.append(Circle('Blue'))\n",
    "    group.children.append(Square('Blue'))\n",
    "    ## Now add the group to the children of the original graphic object\n",
    "    drawing.children.append(group)\n",
    "\n",
    "    print(drawing)\n"
   ]
  },
  {
   "cell_type": "code",
   "execution_count": 52,
   "metadata": {},
   "outputs": [
    {
     "name": "stdout",
     "output_type": "stream",
     "text": [
      "n1, 0 inputs, 4 outputs\n",
      "n2, 4 inputs, 0 outputs\n",
      "L1 with 3 neurons\n",
      "L2 with 4 neurons\n"
     ]
    }
   ],
   "source": [
    "from abc import ABC\n",
    "from collections.abc import Iterable\n",
    "\n",
    "\n",
    "class Connectable(Iterable, ABC):\n",
    "    def connect_to(self, other):\n",
    "        if self == other:\n",
    "            return\n",
    "\n",
    "        for s in self:\n",
    "            for o in other:\n",
    "                s.outputs.append(o)\n",
    "                o.inputs.append(s)\n",
    "\n",
    "\n",
    "class Neuron(Connectable):\n",
    "    def __init__(self, name):\n",
    "        self.name = name\n",
    "        self.inputs = []\n",
    "        self.outputs = []\n",
    "\n",
    "    # def connect_to(self, other):\n",
    "    #     self.outputs.append(other)\n",
    "    #     other.inputs.append(self)\n",
    "\n",
    "    def __iter__(self):\n",
    "        yield self\n",
    "\n",
    "    def __str__(self):\n",
    "        return f'{self.name}, {len(self.inputs)} inputs, {len(self.outputs)} outputs'\n",
    "\n",
    "\n",
    "class NeuronLayer(list, Connectable):\n",
    "    def __init__(self, name, count):\n",
    "        super().__init__()\n",
    "        self.name = name\n",
    "        for x in range(0, count):\n",
    "            self.append(Neuron(f'{name}-{x}'))\n",
    "\n",
    "    def __str__(self):\n",
    "        return f'{self.name} with {len(self)} neurons'\n",
    "\n",
    "\n",
    "def connect_to(self, other):\n",
    "    if self == other:\n",
    "        return\n",
    "\n",
    "    for s in self:\n",
    "        for o in other:\n",
    "            s.outputs.append(o)\n",
    "            o.inputs.append(s)\n",
    "\n",
    "\n",
    "#if __name__ == '__main__':\n",
    "neuron1 = Neuron('n1')\n",
    "neuron2 = Neuron('n2')\n",
    "layer1 = NeuronLayer('L1', 3)\n",
    "layer2 = NeuronLayer('L2', 4)\n",
    "\n",
    "# Neuron.connect_to = connect_to\n",
    "# NeuronLayer.connect_to = connect_to\n",
    "\n",
    "neuron1.connect_to(neuron2)\n",
    "neuron1.connect_to(layer1)\n",
    "layer1.connect_to(neuron2)\n",
    "layer1.connect_to(layer2)\n",
    "\n",
    "print(neuron1)\n",
    "print(neuron2)\n",
    "print(layer1)\n",
    "print(layer2)\n"
   ]
  },
  {
   "cell_type": "code",
   "execution_count": 53,
   "metadata": {},
   "outputs": [
    {
     "name": "stdout",
     "output_type": "stream",
     "text": [
      "['L1-0', 'L1-1', 'L1-2']\n"
     ]
    }
   ],
   "source": [
    "print([i.name for i in layer1])"
   ]
  },
  {
   "cell_type": "code",
   "execution_count": 54,
   "metadata": {},
   "outputs": [
    {
     "name": "stdout",
     "output_type": "stream",
     "text": [
      "L1-0, 1 inputs, 5 outputs\n"
     ]
    }
   ],
   "source": [
    "print(layer1[0])"
   ]
  },
  {
   "cell_type": "code",
   "execution_count": 55,
   "metadata": {},
   "outputs": [
    {
     "data": {
      "text/plain": [
       "'L2-1'"
      ]
     },
     "execution_count": 55,
     "metadata": {},
     "output_type": "execute_result"
    }
   ],
   "source": [
    "layer1[0].outputs[2].name"
   ]
  },
  {
   "cell_type": "code",
   "execution_count": 56,
   "metadata": {},
   "outputs": [
    {
     "name": "stdout",
     "output_type": "stream",
     "text": [
      "n1\n"
     ]
    }
   ],
   "source": [
    "for i in neuron1:\n",
    "    print(i.name)"
   ]
  },
  {
   "cell_type": "code",
   "execution_count": 63,
   "metadata": {},
   "outputs": [],
   "source": [
    "from unittest import TestCase\n",
    "from abc import ABC\n",
    "from collections.abc import Iterable\n",
    "\n",
    "\n",
    "class ValueContainer(Iterable, ABC):\n",
    "    @property\n",
    "    def sum(self):\n",
    "        result = 0\n",
    "        for c in self:\n",
    "            if not isinstance( self, SingleValue):\n",
    "                for i in c:\n",
    "                    result += i\n",
    "            else:\n",
    "                result=c \n",
    "                \n",
    "        return result\n",
    "\n",
    "\n",
    "class SingleValue(ValueContainer):\n",
    "    def __init__(self, value):\n",
    "        self.value = value\n",
    "\n",
    "    def __iter__(self):\n",
    "        yield self.value\n",
    "\n",
    "\n",
    "class ManyValues(list, ValueContainer):\n",
    "    pass\n",
    "\n",
    "\n",
    "class Evaluate(TestCase):\n",
    "    def test_exercise(self):\n",
    "        single_value = SingleValue(11)\n",
    "        other_values = ManyValues()\n",
    "        other_values.append(22)\n",
    "        other_values.append(33)\n",
    "        # make a list of all values\n",
    "        all_values = ManyValues()\n",
    "        all_values.append(single_value)\n",
    "        all_values.append(other_values)\n",
    "        self.assertEqual(all_values.sum, 66)\n"
   ]
  },
  {
   "cell_type": "code",
   "execution_count": 64,
   "metadata": {},
   "outputs": [
    {
     "data": {
      "text/plain": [
       "66"
      ]
     },
     "execution_count": 64,
     "metadata": {},
     "output_type": "execute_result"
    }
   ],
   "source": [
    "single_value = SingleValue(11)\n",
    "other_values = ManyValues()\n",
    "other_values.append(22)\n",
    "other_values.append(33)\n",
    "# make a list of all values\n",
    "all_values = ManyValues()\n",
    "all_values.append(single_value)\n",
    "all_values.append(other_values)\n",
    "#self.assertEqual(all_values.sum, 66)\n",
    "all_values.sum"
   ]
  },
  {
   "cell_type": "code",
   "execution_count": 65,
   "metadata": {},
   "outputs": [
    {
     "data": {
      "text/plain": [
       "11"
      ]
     },
     "execution_count": 65,
     "metadata": {},
     "output_type": "execute_result"
    }
   ],
   "source": [
    "single_value.sum"
   ]
  },
  {
   "cell_type": "code",
   "execution_count": null,
   "metadata": {},
   "outputs": [],
   "source": []
  }
 ],
 "metadata": {
  "kernelspec": {
   "display_name": "Python 3",
   "language": "python",
   "name": "python3"
  },
  "language_info": {
   "codemirror_mode": {
    "name": "ipython",
    "version": 3
   },
   "file_extension": ".py",
   "mimetype": "text/x-python",
   "name": "python",
   "nbconvert_exporter": "python",
   "pygments_lexer": "ipython3",
   "version": "3.6.7"
  }
 },
 "nbformat": 4,
 "nbformat_minor": 2
}
