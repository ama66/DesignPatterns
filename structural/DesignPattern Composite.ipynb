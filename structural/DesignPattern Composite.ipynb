{
 "cells": [
  {
   "cell_type": "code",
   "execution_count": 7,
   "metadata": {},
   "outputs": [
    {
     "name": "stdout",
     "output_type": "stream",
     "text": [
      "My Drawing\n",
      "*RedSquare\n",
      "*YellowCircle\n",
      "*Group\n",
      "**BlueCircle\n",
      "**BlueSquare\n",
      "\n"
     ]
    }
   ],
   "source": [
    "## Composite is when you wanna try a single object or a group of objects using the same interface.\n",
    "## this graphic object for example may have children (like in a tree structure). Its print function \n",
    "## uses recursion to traverse the tree and print all children (the children themselves could be single\n",
    "## or group objects and hence why recursion is needed )\n",
    "class GraphicObject:\n",
    "    def __init__(self, color=None):\n",
    "        self.color = color\n",
    "        self.children = []\n",
    "        self._name = 'Group'\n",
    "\n",
    "    @property\n",
    "    def name(self):\n",
    "        return self._name\n",
    "\n",
    "    def _print(self, items, depth):\n",
    "        items.append('*' * depth)\n",
    "        if self.color:\n",
    "            items.append(self.color)\n",
    "        items.append(f'{self.name}\\n')\n",
    "       \n",
    "        for child in self.children:\n",
    "            child._print(items, depth + 1)\n",
    "\n",
    "    def __str__(self):\n",
    "        items = []\n",
    "        ## items is kind of like global variable! \n",
    "        # it gets populated as a side effect of calling _print \n",
    "        self._print(items, 0)\n",
    "    \n",
    "        return ''.join(items)\n",
    "\n",
    "\n",
    "class Circle(GraphicObject):\n",
    "    @property\n",
    "    def name(self):\n",
    "        return 'Circle'\n",
    "\n",
    "\n",
    "class Square(GraphicObject):\n",
    "    @property\n",
    "    def name(self):\n",
    "        return 'Square'\n",
    "\n",
    "\n",
    "if __name__ == '__main__':\n",
    "    ## graph objects contain single objects like red square, yellow circle but could also include group\n",
    "    ## of objects\n",
    "    drawing = GraphicObject()\n",
    "    drawing._name = 'My Drawing'\n",
    "    drawing.children.append(Square('Red'))\n",
    "    drawing.children.append(Circle('Yellow'))\n",
    "\n",
    "    group = GraphicObject()  # no name\n",
    "    group.children.append(Circle('Blue'))\n",
    "    group.children.append(Square('Blue'))\n",
    "    ## Now add the group to the children of the original graphic object\n",
    "    drawing.children.append(group)\n",
    "\n",
    "    print(drawing)\n"
   ]
  },
  {
   "cell_type": "code",
   "execution_count": null,
   "metadata": {},
   "outputs": [],
   "source": []
  }
 ],
 "metadata": {
  "kernelspec": {
   "display_name": "Python 3",
   "language": "python",
   "name": "python3"
  },
  "language_info": {
   "codemirror_mode": {
    "name": "ipython",
    "version": 3
   },
   "file_extension": ".py",
   "mimetype": "text/x-python",
   "name": "python",
   "nbconvert_exporter": "python",
   "pygments_lexer": "ipython3",
   "version": "3.6.7"
  }
 },
 "nbformat": 4,
 "nbformat_minor": 2
}
