{
 "cells": [
  {
   "cell_type": "code",
   "execution_count": 33,
   "metadata": {},
   "outputs": [
    {
     "name": "stdout",
     "output_type": "stream",
     "text": [
      "\n",
      "\n",
      "--- Drawing some stuff ---\n",
      "\n",
      "1: Generating points for line [1,1]→[11,1]\n",
      "..........1: Generating points for line [11,1]→[11,11]\n",
      "1: Generating points for line [1,1]→[1,11]\n",
      "1: Generating points for line [1,11]→[11,11]\n",
      "..........1: Generating points for line [3,3]→[9,3]\n",
      "......1: Generating points for line [9,3]→[9,9]\n",
      "1: Generating points for line [3,3]→[3,9]\n",
      "1: Generating points for line [3,9]→[9,9]\n",
      "......\n",
      "\n",
      "--- Drawing some stuff ---\n",
      "\n",
      "1: Generating points for line [1,1]→[11,1]\n",
      "..........1: Generating points for line [11,1]→[11,11]\n",
      "1: Generating points for line [1,1]→[1,11]\n",
      "1: Generating points for line [1,11]→[11,11]\n",
      "..........1: Generating points for line [3,3]→[9,3]\n",
      "......1: Generating points for line [9,3]→[9,9]\n",
      "1: Generating points for line [3,3]→[3,9]\n",
      "1: Generating points for line [3,9]→[9,9]\n",
      "......"
     ]
    }
   ],
   "source": [
    "## Assume you are given this API that can only draw one point at x,y coords. Now you have list of rectangles\n",
    "## you wanna draw lines where you not only draw start and end but all points in between. This is where\n",
    "## you use an adapter \n",
    "\n",
    "\n",
    "class Point:\n",
    "    def __init__(self, x, y):\n",
    "        self.y = y\n",
    "        self.x = x\n",
    "\n",
    "\n",
    "def draw_point(p):\n",
    "    print('.', end='')\n",
    "\n",
    "\n",
    "# ^^ you are given this\n",
    "\n",
    "# vv you are working with this\n",
    "class Line:\n",
    "    def __init__(self, start, end):\n",
    "        self.end = end\n",
    "        self.start = start\n",
    "\n",
    "\n",
    "class Rectangle(list):\n",
    "    \"\"\" Represented as a list of lines. \"\"\"\n",
    "\n",
    "    def __init__(self, x, y, width, height):\n",
    "        super().__init__() ## this initializes a list and self refer to this list\n",
    "        self.append(Line(Point(x, y), Point(x + width, y)))\n",
    "        self.append(Line(Point(x + width, y), Point(x + width, y + height)))\n",
    "        self.append(Line(Point(x, y), Point(x, y + height)))\n",
    "        self.append(Line(Point(x, y + height), Point(x + width, y + height)))\n",
    "\n",
    "        ## This is where you design the adapter to work with existing API...\n",
    "        \n",
    "\n",
    "class LineToPointAdapter(list):\n",
    "    count = 0\n",
    "\n",
    "    def __init__(self, line):\n",
    "        self.count += 1\n",
    "        print(f'{self.count}: Generating points for line '\n",
    "              f'[{line.start.x},{line.start.y}]→'\n",
    "              f'[{line.end.x},{line.end.y}]')\n",
    "\n",
    "        left = min(line.start.x, line.end.x)\n",
    "        right = max(line.start.x, line.end.x)\n",
    "        top = min(line.start.y, line.end.y)\n",
    "        bottom = min(line.start.y, line.end.y)\n",
    "        ## Discretize distance left to right or top to bottom for horizontal and vertical lines \n",
    "        ## Using range function \n",
    "        if right - left == 0:\n",
    "            \n",
    "            for y in range(top, bottom):\n",
    "                self.append(Point(left, y))\n",
    "        elif line.end.y - line.start.y == 0:\n",
    "            \n",
    "            for x in range(left, right):\n",
    "                self.append(Point(x, top))\n",
    "\n",
    "def draw(rcs):\n",
    "    print(\"\\n\\n--- Drawing some stuff ---\\n\")\n",
    "    for rc in rcs:\n",
    "        for line in rc:\n",
    "            adapter = LineToPointAdapter(line)\n",
    "            for p in adapter:\n",
    "                draw_point(p)\n",
    "\n",
    "if __name__ == '__main__':\n",
    "    rs = [\n",
    "        Rectangle(1, 1, 10, 10),\n",
    "        Rectangle(3, 3, 6, 6)\n",
    "    ]\n",
    "    draw(rs)\n",
    "    draw(rs)"
   ]
  },
  {
   "cell_type": "code",
   "execution_count": 34,
   "metadata": {},
   "outputs": [
    {
     "name": "stdout",
     "output_type": "stream",
     "text": [
      "1: Generating points for line [1,1]→[11,1]\n",
      ".........."
     ]
    }
   ],
   "source": [
    "adapter=LineToPointAdapter(Line(Point(1,1),Point(11,1)))\n",
    "for p in adapter:\n",
    "    draw_point(p)"
   ]
  },
  {
   "cell_type": "code",
   "execution_count": 17,
   "metadata": {},
   "outputs": [
    {
     "data": {
      "text/plain": [
       "{'count': 1}"
      ]
     },
     "execution_count": 17,
     "metadata": {},
     "output_type": "execute_result"
    }
   ],
   "source": [
    "G.__dict__"
   ]
  },
  {
   "cell_type": "code",
   "execution_count": 18,
   "metadata": {},
   "outputs": [
    {
     "data": {
      "text/plain": [
       "[]"
      ]
     },
     "execution_count": 18,
     "metadata": {},
     "output_type": "execute_result"
    }
   ],
   "source": [
    "G"
   ]
  },
  {
   "cell_type": "code",
   "execution_count": null,
   "metadata": {},
   "outputs": [],
   "source": []
  }
 ],
 "metadata": {
  "kernelspec": {
   "display_name": "Python 3",
   "language": "python",
   "name": "python3"
  },
  "language_info": {
   "codemirror_mode": {
    "name": "ipython",
    "version": 3
   },
   "file_extension": ".py",
   "mimetype": "text/x-python",
   "name": "python",
   "nbconvert_exporter": "python",
   "pygments_lexer": "ipython3",
   "version": "3.6.7"
  }
 },
 "nbformat": 4,
 "nbformat_minor": 2
}
