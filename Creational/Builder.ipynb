{
 "cells": [
  {
   "cell_type": "code",
   "execution_count": 6,
   "metadata": {},
   "outputs": [
    {
     "name": "stdout",
     "output_type": "stream",
     "text": [
      "<p>hello</p>\n",
      "<ul>\n",
      "  <li>hello</li>\n",
      "  <li>world</li>\n",
      "</ul>\n"
     ]
    }
   ],
   "source": [
    "# if you want to build a simple HTML paragraph using a list\n",
    "hello = 'hello'\n",
    "parts = ['<p>', hello, '</p>']\n",
    "print(''.join(parts))\n",
    "\n",
    "## Now if your object is more complex than this you may have to build\n",
    "## lists for example that need to iterate over list of words. in this case\n",
    "## it becomes clear that you need to outsource the construction of this complex\n",
    "## HTML element to a builder that knows how to implement this recipe! \n",
    "\n",
    "# now I want an HTML list with 2 words in it\n",
    "words = ['hello', 'world']\n",
    "parts = ['<ul>']\n",
    "for w in words:\n",
    "    parts.append(f'  <li>{w}</li>')\n",
    "parts.append('</ul>')\n",
    "print('\\n'.join(parts))\n",
    "\n"
   ]
  },
  {
   "cell_type": "code",
   "execution_count": 7,
   "metadata": {},
   "outputs": [],
   "source": [
    "## An HtmElement can have subelements like paragraphs..etc \n",
    "## so in order to print it we need to recursively print its subelements.\n",
    "\n",
    "class HtmlElement:\n",
    "    indent_size = 2\n",
    "\n",
    "    def __init__(self, name=\"\", text=\"\"):\n",
    "        self.name = name\n",
    "        self.text = text\n",
    "        self.elements = []\n",
    "\n",
    "    def __str(self, indent):\n",
    "        lines = []\n",
    "        i = ' ' * (indent * self.indent_size)\n",
    "        lines.append(f'{i}<{self.name}>')\n",
    "\n",
    "        if self.text:\n",
    "            i1 = ' ' * ((indent + 1) * self.indent_size)\n",
    "            lines.append(f'{i1}{self.text}')\n",
    "\n",
    "        for e in self.elements:\n",
    "            lines.append(e.__str(indent + 1))\n",
    "\n",
    "        lines.append(f'{i}</{self.name}>')\n",
    "        return '\\n'.join(lines)\n",
    "\n",
    "    def __str__(self):\n",
    "        return self.__str(0)\n",
    "\n",
    "    @staticmethod\n",
    "    def create(name):\n",
    "        return HtmlBuilder(name)\n",
    "\n",
    "\n",
    "class HtmlBuilder:\n",
    "    __root = HtmlElement()\n",
    "\n",
    "    def __init__(self, root_name):\n",
    "        self.root_name = root_name\n",
    "        self.__root.name = root_name\n",
    "\n",
    "    # not fluent\n",
    "    def add_child(self, child_name, child_text):\n",
    "        self.__root.elements.append(\n",
    "            HtmlElement(child_name, child_text)\n",
    "        )\n",
    "\n",
    "    # fluent\n",
    "    def add_child_fluent(self, child_name, child_text):\n",
    "        self.__root.elements.append(\n",
    "            HtmlElement(child_name, child_text)\n",
    "        )\n",
    "        return self\n",
    "\n",
    "    def clear(self):\n",
    "        self.__root = HtmlElement(name=self.root_name)\n",
    "\n",
    "    def __str__(self):\n",
    "        return str(self.__root)\n"
   ]
  },
  {
   "cell_type": "code",
   "execution_count": 2,
   "metadata": {},
   "outputs": [
    {
     "name": "stdout",
     "output_type": "stream",
     "text": [
      "Ordinary builder:\n",
      "<ul>\n",
      "  <li>\n",
      "    hello\n",
      "  </li>\n",
      "  <li>\n",
      "    world\n",
      "  </li>\n",
      "  <li>\n",
      "    hello\n",
      "  </li>\n",
      "  <li>\n",
      "    world\n",
      "  </li>\n",
      "</ul>\n",
      "Fluent builder:\n",
      "<ul>\n",
      "  <li>\n",
      "    hello\n",
      "  </li>\n",
      "  <li>\n",
      "    world\n",
      "  </li>\n",
      "</ul>\n"
     ]
    }
   ],
   "source": [
    "# ordinary non-fluent builder\n",
    "# builder = HtmlBuilder('ul')\n",
    "builder = HtmlElement.create('ul')\n",
    "builder.add_child('li', 'hello')\n",
    "builder.add_child('li', 'world')\n",
    "print('Ordinary builder:')\n",
    "print(builder)\n",
    "\n",
    "# fluent builder\n",
    "builder.clear()\n",
    "builder.add_child_fluent('li', 'hello') \\\n",
    "    .add_child_fluent('li', 'world')\n",
    "print('Fluent builder:')\n",
    "print(builder)\n"
   ]
  },
  {
   "cell_type": "code",
   "execution_count": null,
   "metadata": {},
   "outputs": [],
   "source": []
  }
 ],
 "metadata": {
  "kernelspec": {
   "display_name": "Python 3",
   "language": "python",
   "name": "python3"
  },
  "language_info": {
   "codemirror_mode": {
    "name": "ipython",
    "version": 3
   },
   "file_extension": ".py",
   "mimetype": "text/x-python",
   "name": "python",
   "nbconvert_exporter": "python",
   "pygments_lexer": "ipython3",
   "version": "3.6.7"
  }
 },
 "nbformat": 4,
 "nbformat_minor": 2
}
