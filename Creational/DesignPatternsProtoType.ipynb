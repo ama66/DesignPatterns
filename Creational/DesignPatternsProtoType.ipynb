{
 "cells": [
  {
   "cell_type": "code",
   "execution_count": 1,
   "metadata": {},
   "outputs": [
    {
     "name": "stdout",
     "output_type": "stream",
     "text": [
      "Jane works at 123B East Dr, Suite #200, London\n"
     ]
    }
   ],
   "source": [
    "import copy\n",
    "\n",
    "class Address:\n",
    "    def __init__(self, street_address, suite, city):\n",
    "        self.suite = suite\n",
    "        self.city = city\n",
    "        self.street_address = street_address\n",
    "\n",
    "    def __str__(self):\n",
    "        return f'{self.street_address}, Suite #{self.suite}, {self.city}'\n",
    "\n",
    "class Employee:\n",
    "    def __init__(self, name, address):\n",
    "        self.address = address\n",
    "        self.name = name\n",
    "\n",
    "    def __str__(self):\n",
    "        return f'{self.name} works at {self.address}'\n",
    "\n",
    "    \n",
    "######## Use a Factory class to generate new customized employees out of the \n",
    "## employee and address classes\n",
    "\n",
    "class EmployeeFactory:\n",
    "    ## The following class attribute classes will be customized through\n",
    "    ## the static functions\n",
    "    main_office_employee = Employee(\"\", Address(\"123 East Dr\", 0, \"London\"))\n",
    "    aux_office_employee = Employee(\"\", Address(\"123B East Dr\", 0, \"London\"))\n",
    "\n",
    "    ## This is aux function to help with deep copying and customization\n",
    "    @staticmethod\n",
    "    def __new_employee(proto, name, suite):\n",
    "        result = copy.deepcopy(proto)\n",
    "        result.name = name\n",
    "        result.address.suite = suite\n",
    "        return result\n",
    "    \n",
    "    ## This function is a main office employee factory/generator!\n",
    "    @staticmethod\n",
    "    def new_main_office_employee(name, suite):\n",
    "        return EmployeeFactory.__new_employee(\n",
    "            EmployeeFactory.main_office_employee,\n",
    "            name, suite\n",
    "        )\n",
    "    ## This function is an aux office employee factory/generator!\n",
    "    @staticmethod\n",
    "    def new_aux_office_employee(name, suite):\n",
    "        return EmployeeFactory.__new_employee(\n",
    "            EmployeeFactory.aux_office_employee,\n",
    "            name, suite\n",
    "        )\n",
    "\n",
    "# main_office_employee = Employee(\"\", Address(\"123 East Dr\", 0, \"London\"))\n",
    "# aux_office_employee = Employee(\"\", Address(\"123B East Dr\", 0, \"London\"))\n",
    "\n",
    "# john = copy.deepcopy(main_office_employee)\n",
    "#john.name = \"John\"\n",
    "#john.address.suite = 101\n",
    "#print(john)\n",
    "\n",
    "# would prefer to write just one line of code\n",
    "jane = EmployeeFactory.new_aux_office_employee(\"Jane\", 200)\n",
    "print(jane)\n",
    "\n"
   ]
  },
  {
   "cell_type": "code",
   "execution_count": null,
   "metadata": {},
   "outputs": [],
   "source": []
  },
  {
   "cell_type": "code",
   "execution_count": 2,
   "metadata": {},
   "outputs": [],
   "source": [
    "from unittest import TestCase\n",
    "\n",
    "class Point:\n",
    "    def __init__(self, x=0, y=0):\n",
    "        self.x = x\n",
    "        self.y = y\n",
    "\n",
    "class Line:\n",
    "    def __init__(self, start=Point(), end=Point()):\n",
    "        self.start = start\n",
    "        self.end = end\n",
    "\n",
    "    def deep_copy(self):\n",
    "        new_start = Point(self.start.x, self.start.y)\n",
    "        new_end = Point(self.end.x, self.end.y)\n",
    "        return Line(new_start, new_end)\n",
    "\n",
    "\n",
    "class Evaluate(TestCase):\n",
    "    def test_exercise(self):\n",
    "        line1 = Line(\n",
    "            Point(3, 3),\n",
    "            Point(10, 10)\n",
    "        )\n",
    "        line2 = line1.deep_copy()\n",
    "        line1.start.x = line1.end.x = line1.start.y = line1.end.y = 0\n",
    "\n",
    "        self.assertEqual(3, line2.start.x)\n",
    "        self.assertEqual(3, line2.start.y)\n",
    "        self.assertEqual(10, line2.end.x)\n",
    "        self.assertEqual(10, line2.end.y)"
   ]
  },
  {
   "cell_type": "code",
   "execution_count": null,
   "metadata": {},
   "outputs": [],
   "source": []
  }
 ],
 "metadata": {
  "kernelspec": {
   "display_name": "Python 3",
   "language": "python",
   "name": "python3"
  },
  "language_info": {
   "codemirror_mode": {
    "name": "ipython",
    "version": 3
   },
   "file_extension": ".py",
   "mimetype": "text/x-python",
   "name": "python",
   "nbconvert_exporter": "python",
   "pygments_lexer": "ipython3",
   "version": "3.6.7"
  }
 },
 "nbformat": 4,
 "nbformat_minor": 2
}
