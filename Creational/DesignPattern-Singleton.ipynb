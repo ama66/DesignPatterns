{
 "cells": [
  {
   "cell_type": "code",
   "execution_count": 25,
   "metadata": {},
   "outputs": [
    {
     "name": "stdout",
     "output_type": "stream",
     "text": [
      "83 83\n",
      "True\n",
      "True\n"
     ]
    }
   ],
   "source": [
    "# (1) Single Allocation Implementation\n",
    "\n",
    "## __new__ is called before __init__ \n",
    "import random\n",
    "\n",
    "class Database:\n",
    "    initialized = False\n",
    "\n",
    "    def __init__(self):\n",
    "        self.id = random.randint(1,101)\n",
    "        # print('Generated an id of ', self.id)\n",
    "        # print('Loading database from file')\n",
    "        pass\n",
    "\n",
    "    _instance = None\n",
    "\n",
    "    def __new__(cls, *args, **kwargs):\n",
    "        if not cls._instance:\n",
    "            cls._instance = super(Database, cls)\\\n",
    "                .__new__(cls, *args, **kwargs)\n",
    "\n",
    "        return cls._instance\n",
    "\n",
    "\n",
    "database = Database()\n",
    "\n",
    "if __name__ == '__main__':\n",
    "    d1 = Database()\n",
    "    d2 = Database()\n",
    "\n",
    "    print(d1.id, d2.id)\n",
    "    print(d1 == d2)\n",
    "    print(database == d1)"
   ]
  },
  {
   "cell_type": "markdown",
   "metadata": {},
   "source": [
    "Python is Object oriented language, every thing is an object in python. Python is having special type of  methods called magic methods named with preceded and trailing double underscores.\n",
    "\n",
    "When we talk about magic method __new__ we also need to talk about __init__\n",
    "\n",
    "These methods will be called when you instantiate(The process of creating instance from class is called instantiation). That is when you create instance. The magic method __new__ will be called when instance is being created. Using this method you can customize the instance creation. This is only the method which will be called first then __init__ will be called to initialize instance when you are creating instance.\n",
    "\n",
    "Method __new__ will take class reference as the first argument followed by arguments which are passed to constructor(Arguments passed to call of class to create instance). Method __new__ is responsible to create instance, so you can use this method to customize object creation. Typically method __new__ will return the created instance object reference. Method __init__ will be called once __new__ method completed execution.\n",
    "\n",
    "You can create new instance of the class by invoking the superclass’s __new__ method using super. Something like super(currentclass, cls).__new__(cls, [,….])\n",
    "https://howto.lintel.in/python-__new__-magic-method-explained/"
   ]
  },
  {
   "cell_type": "code",
   "execution_count": 26,
   "metadata": {},
   "outputs": [
    {
     "name": "stdout",
     "output_type": "stream",
     "text": [
      "Loading database\n",
      "True\n"
     ]
    }
   ],
   "source": [
    "# (2) Decorator Implementation\n",
    "\n",
    "def singleton(class_):\n",
    "    instances = {}\n",
    "\n",
    "    def get_instance(*args, **kwargs):\n",
    "        if class_ not in instances:\n",
    "            instances[class_] = class_(*args, **kwargs)\n",
    "        return instances[class_]\n",
    "\n",
    "    return get_instance\n",
    "\n",
    "\n",
    "@singleton\n",
    "class Database:\n",
    "    def __init__(self):\n",
    "        print('Loading database')\n",
    "\n",
    "\n",
    "if __name__ == '__main__':\n",
    "    d1 = Database()\n",
    "    d2 = Database()\n",
    "    print(d1 == d2)\n",
    "    "
   ]
  },
  {
   "cell_type": "code",
   "execution_count": 27,
   "metadata": {},
   "outputs": [
    {
     "name": "stdout",
     "output_type": "stream",
     "text": [
      "Loading database\n",
      "True\n"
     ]
    }
   ],
   "source": [
    "# (3) Instantiate the DB from a singleton metaclass Recommended method \n",
    "\n",
    "class Singleton(type):\n",
    "    \"\"\" Metaclass that creates a Singleton base type when called. \"\"\"\n",
    "    _instances = {}\n",
    "\n",
    "    def __call__(cls, *args, **kwargs):\n",
    "        if cls not in cls._instances:\n",
    "            cls._instances[cls] = super(Singleton, cls)\\\n",
    "                .__call__(*args, **kwargs)\n",
    "        return cls._instances[cls]\n",
    "\n",
    "\n",
    "class Database(metaclass=Singleton):\n",
    "    def __init__(self):\n",
    "        print('Loading database')\n",
    "\n",
    "\n",
    "if __name__ == '__main__':\n",
    "    d1 = Database()\n",
    "    d2 = Database()\n",
    "    print(d1 == d2)\n",
    "\n",
    "    "
   ]
  },
  {
   "cell_type": "code",
   "execution_count": 28,
   "metadata": {},
   "outputs": [
    {
     "name": "stdout",
     "output_type": "stream",
     "text": [
      "Steve is 55 years old\n",
      "Steve is 77 years old\n",
      "Steve is 77 years old\n",
      "Tim is 77 years old Tim is 77 years old Tim is 77 years old\n",
      "Sheryl manages $1bn\n",
      "Ruth manages $10bn\n",
      "Ruth manages $10bn\n"
     ]
    }
   ],
   "source": [
    "## Monostate/Borg..many instances with shared attributes \n",
    "## inheriting from a monostate baseclass is also the recommended way \n",
    "# all members are static :)\n",
    "\n",
    "class CEO:\n",
    "    __shared_state = {\n",
    "        'name': 'Steve',\n",
    "        'age': 55\n",
    "    }\n",
    "\n",
    "    def __init__(self):\n",
    "        self.__dict__ = self.__shared_state\n",
    "\n",
    "    def __str__(self):\n",
    "        return f'{self.name} is {self.age} years old'\n",
    "\n",
    "\n",
    "class Monostate:\n",
    "    _shared_state = {}\n",
    "\n",
    "    def __new__(cls, *args, **kwargs):\n",
    "        obj = super(Monostate, cls).__new__(cls, *args, **kwargs)\n",
    "        obj.__dict__ = cls._shared_state\n",
    "        return obj\n",
    "\n",
    "\n",
    "class CFO(Monostate):\n",
    "    def __init__(self):\n",
    "        self.name = ''\n",
    "        self.money_managed = 0\n",
    "\n",
    "    def __str__(self):\n",
    "        return f'{self.name} manages ${self.money_managed}bn'\n",
    "\n",
    "if __name__ == '__main__':\n",
    "    ceo1 = CEO()\n",
    "    print(ceo1)\n",
    "\n",
    "    ceo1.age = 66\n",
    "\n",
    "    ceo2 = CEO()\n",
    "    ceo2.age = 77\n",
    "    print(ceo1)\n",
    "    print(ceo2)\n",
    "\n",
    "    ceo2.name = 'Tim'\n",
    "\n",
    "    ceo3 = CEO()\n",
    "    print(ceo1, ceo2, ceo3)\n",
    "\n",
    "    cfo1 = CFO()\n",
    "    cfo1.name = 'Sheryl'\n",
    "    cfo1.money_managed = 1\n",
    "\n",
    "    print(cfo1)\n",
    "\n",
    "    cfo2 = CFO()\n",
    "    cfo2.name = 'Ruth'\n",
    "    cfo2.money_managed = 10\n",
    "    print(cfo1, cfo2, sep='\\n')\n",
    "    \n",
    "    "
   ]
  },
  {
   "cell_type": "code",
   "execution_count": 30,
   "metadata": {},
   "outputs": [],
   "source": [
    "## how do we test singleton objects especially if they are realtime database objects \n",
    "## that change over time. \n",
    "\n",
    "import unittest\n",
    "\n",
    "\n",
    "class Singleton(type):\n",
    "    _instances = {}\n",
    "\n",
    "    def __call__(cls, *args, **kwargs):\n",
    "        if cls not in cls._instances:\n",
    "            cls._instances[cls] = super(Singleton, cls).__call__(*args, **kwargs)\n",
    "        return cls._instances[cls]\n",
    "\n",
    "\n",
    "class Database(metaclass=Singleton):\n",
    "    def __init__(self):\n",
    "        self.population = {}\n",
    "        f = open('capitals.txt', 'r')\n",
    "        lines = f.readlines()\n",
    "        for i in range(0, len(lines), 2):\n",
    "            self.population[lines[i].strip()] = int(lines[i + 1].strip())\n",
    "        f.close()\n",
    "\n",
    "## this Database() is live and changing in realtime so unittesting may be challenging \n",
    "\n",
    "class SingletonRecordFinder:\n",
    "    def total_population(self, cities):\n",
    "        result = 0\n",
    "        for c in cities:\n",
    "            result += Database().population[c]\n",
    "        return result\n",
    "\n",
    "\n",
    "class ConfigurableRecordFinder:\n",
    "    def __init__(self, db):\n",
    "        self.db = db\n",
    "\n",
    "    def total_population(self, cities):\n",
    "        result = 0\n",
    "        for c in cities:\n",
    "            result += self.db.population[c]\n",
    "        return result\n",
    "\n",
    "## can create this dummydatabase for purpose of testing.\n",
    "class DummyDatabase:\n",
    "    population = {\n",
    "        'alpha': 1,\n",
    "        'beta': 2,\n",
    "        'gamma': 3\n",
    "    }\n",
    "\n",
    "    def get_population(self, name):\n",
    "        return self.population[name]\n",
    "\n",
    "# class SingletonTests(unittest.TestCase):\n",
    "#     def test_is_singleton(self):\n",
    "#         db = Database()\n",
    "#         db2 = Database()\n",
    "#         self.assertEqual(db, db2)\n",
    "\n",
    "#     def test_singleton_total_population(self):\n",
    "#         \"\"\" This tests on a live database :( \"\"\"\n",
    "#         rf = SingletonRecordFinder()\n",
    "#         names = ['Seoul', 'Mexico City']\n",
    "#         tp = rf.total_population(names)\n",
    "#         self.assertEqual(tp, 17500000 + 17400000)  # what if these change?\n",
    "\n",
    "#     ddb = DummyDatabase()\n",
    "\n",
    "#     def test_dependent_total_population(self):\n",
    "#         crf = ConfigurableRecordFinder(self.ddb)\n",
    "#         self.assertEqual(\n",
    "#             crf.total_population(['alpha', 'beta']),\n",
    "#             3\n",
    "#         )\n",
    "\n",
    "# if __name__ == '__main__':\n",
    "#     unittest.main()\n",
    "    "
   ]
  },
  {
   "cell_type": "code",
   "execution_count": 33,
   "metadata": {},
   "outputs": [],
   "source": [
    "ddb = DummyDatabase()\n",
    "crf = ConfigurableRecordFinder(ddb)\n"
   ]
  },
  {
   "cell_type": "code",
   "execution_count": 34,
   "metadata": {},
   "outputs": [
    {
     "data": {
      "text/plain": [
       "3"
      ]
     },
     "execution_count": 34,
     "metadata": {},
     "output_type": "execute_result"
    }
   ],
   "source": [
    "crf.total_population(['alpha', 'beta'])\n"
   ]
  },
  {
   "cell_type": "code",
   "execution_count": 36,
   "metadata": {},
   "outputs": [],
   "source": [
    "# Python factory function is used to create function objects. So a function works as a factory \n",
    "# to create and return function object. It can return different functions based\n",
    "# on parameter of function. The returned function object can be later invoked and will\n",
    "# have access to passed parameter because of closure.\n",
    "\n",
    "from unittest import TestCase\n",
    "from copy import deepcopy\n",
    "\n",
    "def is_singleton(factory):\n",
    "    x = factory()\n",
    "    y = factory()\n",
    "    return x is y\n",
    "\n",
    "class Evaluate(TestCase):\n",
    "    def test_exercise(self):\n",
    "        obj = [1, 2, 3]\n",
    "        self.assertTrue(is_singleton(lambda: obj))\n",
    "        self.assertFalse(is_singleton(lambda: deepcopy(obj)))"
   ]
  },
  {
   "cell_type": "code",
   "execution_count": null,
   "metadata": {},
   "outputs": [],
   "source": []
  }
 ],
 "metadata": {
  "kernelspec": {
   "display_name": "Python 3",
   "language": "python",
   "name": "python3"
  },
  "language_info": {
   "codemirror_mode": {
    "name": "ipython",
    "version": 3
   },
   "file_extension": ".py",
   "mimetype": "text/x-python",
   "name": "python",
   "nbconvert_exporter": "python",
   "pygments_lexer": "ipython3",
   "version": "3.6.7"
  }
 },
 "nbformat": 4,
 "nbformat_minor": 2
}
