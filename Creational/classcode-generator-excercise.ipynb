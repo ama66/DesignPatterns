{
 "cells": [
  {
   "cell_type": "code",
   "execution_count": 10,
   "metadata": {},
   "outputs": [],
   "source": [
    "from unittest import TestCase\n",
    "\n",
    "class Field:\n",
    "    def __init__(self, name, value):\n",
    "        self.value = value\n",
    "        self.name = name\n",
    "\n",
    "    def __str__(self):\n",
    "        return 'self.%s = %s' % (self.name, self.value)\n",
    "\n",
    "\n",
    "class Class:\n",
    "    def __init__(self, name):\n",
    "        self.name = name\n",
    "        self.fields = []\n",
    "\n",
    "    def __str__(self):\n",
    "        lines = ['class %s:' % self.name]\n",
    "        if not self.fields:\n",
    "            lines.append('  pass')\n",
    "        else:\n",
    "            lines.append('  def __init__(self):')\n",
    "            for f in self.fields:\n",
    "                lines.append('    %s' % f)\n",
    "        return '\\n'.join(lines)\n",
    "\n",
    "\n",
    "class CodeBuilder:\n",
    "    def __init__(self, root_name):\n",
    "        self.__class = Class(root_name)\n",
    "\n",
    "    def add_field(self, type, name):\n",
    "        self.__class.fields.append(Field(type, name))\n",
    "        return self\n",
    "\n",
    "    def __str__(self):\n",
    "        return self.__class.__str__()\n",
    "\n",
    "\n",
    "class Evaluate(TestCase):\n",
    "    @staticmethod\n",
    "    def preprocess(s=''):\n",
    "        return s.strip().replace('\\r\\n', '\\n')\n",
    "\n",
    "    def test_empty(self):\n",
    "        cb = CodeBuilder('Foo')\n",
    "        self.assertEqual(\n",
    "            self.preprocess(str(cb)),\n",
    "            'class Foo:\\n  pass'\n",
    "        )\n",
    "\n",
    "    def test_person(self):\n",
    "        cb = CodeBuilder('Person').add_field('name', '\"\"') \\\n",
    "            .add_field('age', 0)\n",
    "        self.assertEqual(self.preprocess(str(cb)),\n",
    "                         \"\"\"class Person:\n",
    "  def __init__(self):\n",
    "    self.name = \\\"\\\"\n",
    "    self.age = 0\"\"\")\n"
   ]
  },
  {
   "cell_type": "code",
   "execution_count": 7,
   "metadata": {},
   "outputs": [],
   "source": [
    "cb = CodeBuilder('Foo')"
   ]
  },
  {
   "cell_type": "code",
   "execution_count": 12,
   "metadata": {},
   "outputs": [
    {
     "name": "stdout",
     "output_type": "stream",
     "text": [
      "class Person:\n",
      "  def __init__(self):\n",
      "    self.name = \"\"\n",
      "    self.age = 0\n"
     ]
    }
   ],
   "source": [
    "print(cb)"
   ]
  },
  {
   "cell_type": "code",
   "execution_count": 11,
   "metadata": {},
   "outputs": [
    {
     "name": "stdout",
     "output_type": "stream",
     "text": [
      "class Person:\n",
      "  def __init__(self):\n",
      "    self.name = \"\"\n",
      "    self.age = 0\n"
     ]
    }
   ],
   "source": [
    "cb = CodeBuilder('Person').add_field('name', '\"\"') \\\n",
    "            .add_field('age', 0)\n",
    "print(cb)"
   ]
  },
  {
   "cell_type": "code",
   "execution_count": null,
   "metadata": {},
   "outputs": [],
   "source": []
  }
 ],
 "metadata": {
  "kernelspec": {
   "display_name": "Python 3",
   "language": "python",
   "name": "python3"
  },
  "language_info": {
   "codemirror_mode": {
    "name": "ipython",
    "version": 3
   },
   "file_extension": ".py",
   "mimetype": "text/x-python",
   "name": "python",
   "nbconvert_exporter": "python",
   "pygments_lexer": "ipython3",
   "version": "3.6.7"
  }
 },
 "nbformat": 4,
 "nbformat_minor": 2
}
