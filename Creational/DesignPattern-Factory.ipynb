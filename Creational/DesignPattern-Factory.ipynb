{
 "cells": [
  {
   "cell_type": "code",
   "execution_count": 1,
   "metadata": {},
   "outputs": [
    {
     "name": "stdout",
     "output_type": "stream",
     "text": [
      "x: 2, y: 3 x: 1, y: 2 x: 5, y: 6 x: 7, y: 8\n"
     ]
    }
   ],
   "source": [
    "from enum import Enum\n",
    "from math import *\n",
    "\n",
    "\n",
    "class CoordinateSystem(Enum):\n",
    "    CARTESIAN = 1\n",
    "    POLAR = 2\n",
    "\n",
    "\n",
    "class Point:\n",
    "    # def __init__(self, x, y):\n",
    "    #     self.x = x\n",
    "    #     self.y = y\n",
    "\n",
    "    def __str__(self):\n",
    "        return f'x: {self.x}, y: {self.y}'\n",
    "\n",
    "    # redeclaration won't work\n",
    "    # def __init__(self, rho, theta):\n",
    "\n",
    "    def __init__(self, a, b, system=CoordinateSystem.CARTESIAN):\n",
    "        if system == CoordinateSystem.CARTESIAN:\n",
    "            self.x = a\n",
    "            self.y = b\n",
    "        elif system == CoordinateSystem.POLAR:\n",
    "            self.x = a * sin(b)\n",
    "            self.y = a * cos(b)\n",
    "\n",
    "        # steps to add a new system\n",
    "        # 1. augment CoordinateSystem\n",
    "        # 2. change init method\n",
    "\n",
    "    @staticmethod\n",
    "    def new_cartesian_point(x, y):\n",
    "        return Point(x, y)\n",
    "\n",
    "    @staticmethod\n",
    "    def new_polar_point(rho, theta):\n",
    "        return Point(rho * sin(theta), rho * cos(theta))\n",
    "\n",
    "    class Factory:\n",
    "        @staticmethod\n",
    "        def new_cartesian_point(x, y):\n",
    "            return Point(x, y)\n",
    "\n",
    "    factory = Factory()\n",
    "\n",
    "# take out factory methods to a separate class\n",
    "class PointFactory:\n",
    "    @staticmethod\n",
    "    def new_cartesian_point(x, y):\n",
    "        return Point(x, y)\n",
    "\n",
    "    @staticmethod\n",
    "    def new_polar_point(rho, theta):\n",
    "        return Point(rho * sin(theta), rho * cos(theta))\n",
    "\n",
    "\n",
    "if __name__ == '__main__':\n",
    "    p1 = Point(2, 3, CoordinateSystem.CARTESIAN)\n",
    "    p2 = PointFactory.new_cartesian_point(1, 2)\n",
    "    # or you can expose factory through the type\n",
    "    p3 = Point.Factory.new_cartesian_point(5, 6)\n",
    "    p4 = Point.factory.new_cartesian_point(7, 8)\n",
    "    print(p1, p2, p3, p4)\n"
   ]
  },
  {
   "cell_type": "code",
   "execution_count": null,
   "metadata": {},
   "outputs": [],
   "source": []
  }
 ],
 "metadata": {
  "kernelspec": {
   "display_name": "Python 3",
   "language": "python",
   "name": "python3"
  },
  "language_info": {
   "codemirror_mode": {
    "name": "ipython",
    "version": 3
   },
   "file_extension": ".py",
   "mimetype": "text/x-python",
   "name": "python",
   "nbconvert_exporter": "python",
   "pygments_lexer": "ipython3",
   "version": "3.6.7"
  }
 },
 "nbformat": 4,
 "nbformat_minor": 2
}
