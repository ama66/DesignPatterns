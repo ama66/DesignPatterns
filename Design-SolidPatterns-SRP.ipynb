{
 "cells": [
  {
   "cell_type": "code",
   "execution_count": 7,
   "metadata": {},
   "outputs": [],
   "source": [
    "#Dmitri Nesteruk \n",
    "\n",
    "class Journal:\n",
    "    def __init__(self):\n",
    "        self.entries = []\n",
    "        self.count = 0\n",
    "\n",
    "    def add_entry(self, text):\n",
    "        self.entries.append(f\"{self.count}: {text}\")\n",
    "        self.count += 1\n",
    "\n",
    "    def remove_entry(self, pos):\n",
    "        del self.entries[pos]\n",
    "\n",
    "    def __str__(self):\n",
    "        return \"\\n\".join(self.entries)\n",
    "\n",
    "    # break SRP (Anti-pattern!)\n",
    "    ## Adding persistence responsibility to this class\n",
    "    ## is antipattern and should not be allowed! \n",
    "    \n",
    "    def save(self, filename):\n",
    "        file = open(filename, \"w\")\n",
    "        file.write(str(self))\n",
    "        file.close()\n",
    "\n",
    "    def load(self, filename):\n",
    "        pass\n",
    "\n",
    "    def load_from_web(self, uri):\n",
    "        pass\n",
    "\n",
    "\n",
    "class PersistenceManager:\n",
    "    @staticmethod\n",
    "    def save_to_file(journal, filename):\n",
    "        file = open(filename, \"w\")\n",
    "        file.write(str(journal))\n",
    "        file.close()"
   ]
  },
  {
   "cell_type": "code",
   "execution_count": 4,
   "metadata": {
    "scrolled": true
   },
   "outputs": [
    {
     "name": "stdout",
     "output_type": "stream",
     "text": [
      "Journal entries:\n",
      "0: I cried today.\n",
      "1: I ate a bug.\n",
      "\n"
     ]
    }
   ],
   "source": [
    "j = Journal()\n",
    "j.add_entry(\"I cried today.\")\n",
    "j.add_entry(\"I ate a bug.\")\n",
    "print(f\"Journal entries:\\n{j}\\n\")\n",
    "\n"
   ]
  },
  {
   "cell_type": "code",
   "execution_count": 6,
   "metadata": {},
   "outputs": [
    {
     "data": {
      "text/plain": [
       "['0: I cried today.', '1: I ate a bug.']"
      ]
     },
     "execution_count": 6,
     "metadata": {},
     "output_type": "execute_result"
    }
   ],
   "source": [
    "j.entries"
   ]
  },
  {
   "cell_type": "code",
   "execution_count": 8,
   "metadata": {},
   "outputs": [
    {
     "name": "stdout",
     "output_type": "stream",
     "text": [
      "0: I cried today.\n",
      "1: I ate a bug.\n"
     ]
    }
   ],
   "source": [
    "p = PersistenceManager()\n",
    "file = '/Users/ammar/journal.txt'\n",
    "p.save_to_file(j, file)\n",
    "\n",
    "# verify!\n",
    "with open(file) as fh:\n",
    "    print(fh.read())"
   ]
  },
  {
   "cell_type": "code",
   "execution_count": null,
   "metadata": {},
   "outputs": [],
   "source": []
  }
 ],
 "metadata": {
  "kernelspec": {
   "display_name": "Python 3",
   "language": "python",
   "name": "python3"
  },
  "language_info": {
   "codemirror_mode": {
    "name": "ipython",
    "version": 3
   },
   "file_extension": ".py",
   "mimetype": "text/x-python",
   "name": "python",
   "nbconvert_exporter": "python",
   "pygments_lexer": "ipython3",
   "version": "3.6.7"
  }
 },
 "nbformat": 4,
 "nbformat_minor": 2
}
