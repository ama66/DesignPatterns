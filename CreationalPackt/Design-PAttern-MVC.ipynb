{
 "cells": [
  {
   "cell_type": "markdown",
   "metadata": {},
   "source": [
    "https://www.giacomodebidda.com/mvc-pattern-in-python-introduction-and-basicmodel/\n",
    "The three components of the MVC pattern are decoupled and they are responsible for different things:\n",
    "# (1) the Model manages the data and defines rules and behaviors. It represents the business logic of the application. The data can be stored in the Model itself or in a database (only the Model has access to the database).\n",
    "# (2) the View presents the data to the user. A View can be any kind of output representation: a HTML page, a chart, a table, or even a simple text output. A View should never call its own methods; only a Controller should do it.\n",
    "# (3) the Controller accepts user’s inputs and delegates data representation to a View and data handling to a Model.\n",
    "Since Model, View and Controller are decoupled, each one of the three can be extended, modified and replaced without having to rewrite the other two.\n",
    "\n",
    "https://github.com/jackdbd/design-patterns/tree/master/mvc"
   ]
  },
  {
   "cell_type": "code",
   "execution_count": null,
   "metadata": {},
   "outputs": [],
   "source": [
    "@app.route('/')\n",
    "def example_page():\n",
    "    \"\"\"Searches the database for entries, then displays them.\"\"\"\n",
    "    db = get_db()\n",
    "    query = db.execute('select * from entries order by id desc')\n",
    "    entries = query.fetchall()\n",
    "    return render_template('example_page.html', entries=entries)\n"
   ]
  },
  {
   "cell_type": "code",
   "execution_count": null,
   "metadata": {},
   "outputs": [],
   "source": [
    "{% for entry in entries %}\n",
    "{{ entry.title }}\n",
    "{{ entry.text|safe }}\n",
    "{% else %}\n",
    "No entries yet.\n",
    "{% endfor %}"
   ]
  }
 ],
 "metadata": {
  "kernelspec": {
   "display_name": "Python 3",
   "language": "python",
   "name": "python3"
  },
  "language_info": {
   "codemirror_mode": {
    "name": "ipython",
    "version": 3
   },
   "file_extension": ".py",
   "mimetype": "text/x-python",
   "name": "python",
   "nbconvert_exporter": "python",
   "pygments_lexer": "ipython3",
   "version": "3.6.7"
  }
 },
 "nbformat": 4,
 "nbformat_minor": 2
}
