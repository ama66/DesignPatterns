{
 "cells": [
  {
   "cell_type": "code",
   "execution_count": 2,
   "metadata": {},
   "outputs": [],
   "source": [
    "## Here we can build a factory generator interface that can specify different \n",
    "## types/families of factories\n",
    "#################\n",
    "# === abstract shape classes ===\n",
    "class Shape2DInterface:\n",
    "    def draw(self): pass\n",
    "\n",
    "class Shape3DInterface:\n",
    "    def build(self): pass\n",
    "\n",
    "# === concrete shape classes ===\n",
    "class Circle(Shape2DInterface):\n",
    "    def draw(self):\n",
    "        print(\"Circle.draw\")\n",
    "\n",
    "class Square(Shape2DInterface):\n",
    "    def draw(self):\n",
    "        print(\"Square.draw\")\n",
    "\n",
    "class Sphere(Shape3DInterface):\n",
    "    def build(self):\n",
    "        print(\"Sphere.build\")\n",
    "\n",
    "class Cube(Shape3DInterface):\n",
    "    def build(self):\n",
    "        print(\"Cube.build\")\n",
    "\n",
    "\n",
    "# === Abstract shape factory ===\n",
    "## Any factory object need to implement its own getshape\n",
    "class ShapeFactoryInterface:\n",
    "    def getShape(sides): pass\n",
    "\n",
    "# === Concrete shape factories ===\n",
    "class Shape2DFactory(ShapeFactoryInterface):\n",
    "    @staticmethod\n",
    "    def getShape(sides):\n",
    "        if sides == 1:\n",
    "            return Circle()\n",
    "        if sides == 4:\n",
    "            return Square()\n",
    "        assert 0, \"Bad 2D shape creation: shape not defined for \" + sides + \"sides\"\n",
    "\n",
    "class Shape3DFactory(ShapeFactoryInterface):\n",
    "    @staticmethod\n",
    "    def getShape(sides):\n",
    "        \"\"\"here, sides refers to the number of faces\"\"\"\n",
    "        if sides == 1:\n",
    "            return Sphere()\n",
    "        if sides == 6:\n",
    "            return Cube()\n",
    "        assert 0, \"Bad 3D shape creation: shape not defined for \" + sides + \"faces\"\n"
   ]
  },
  {
   "cell_type": "code",
   "execution_count": 3,
   "metadata": {},
   "outputs": [],
   "source": [
    "circ=Shape2DFactory().getShape(1)"
   ]
  },
  {
   "cell_type": "code",
   "execution_count": 5,
   "metadata": {},
   "outputs": [
    {
     "name": "stdout",
     "output_type": "stream",
     "text": [
      "Circle.draw\n"
     ]
    }
   ],
   "source": [
    "circ.draw()"
   ]
  },
  {
   "cell_type": "code",
   "execution_count": 6,
   "metadata": {},
   "outputs": [
    {
     "name": "stdout",
     "output_type": "stream",
     "text": [
      "Square.draw\n"
     ]
    }
   ],
   "source": [
    "sq=Shape2DFactory().getShape(4).draw()"
   ]
  },
  {
   "cell_type": "code",
   "execution_count": 7,
   "metadata": {},
   "outputs": [
    {
     "name": "stdout",
     "output_type": "stream",
     "text": [
      "Sphere.build\n"
     ]
    }
   ],
   "source": [
    "sph=Shape3DFactory().getShape(1).build()"
   ]
  },
  {
   "cell_type": "code",
   "execution_count": null,
   "metadata": {},
   "outputs": [],
   "source": []
  }
 ],
 "metadata": {
  "kernelspec": {
   "display_name": "Python 3",
   "language": "python",
   "name": "python3"
  },
  "language_info": {
   "codemirror_mode": {
    "name": "ipython",
    "version": 3
   },
   "file_extension": ".py",
   "mimetype": "text/x-python",
   "name": "python",
   "nbconvert_exporter": "python",
   "pygments_lexer": "ipython3",
   "version": "3.6.7"
  }
 },
 "nbformat": 4,
 "nbformat_minor": 2
}
