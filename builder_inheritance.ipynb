{
 "cells": [
  {
   "cell_type": "code",
   "execution_count": 5,
   "metadata": {},
   "outputs": [
    {
     "name": "stdout",
     "output_type": "stream",
     "text": [
      "Dmitri born on 1/1/1980 works as a quant\n"
     ]
    }
   ],
   "source": [
    "## Building a person object through multiple-level inheritance by multiple sub-builders\n",
    "class Person:\n",
    "    def __init__(self):\n",
    "        self.name = None\n",
    "        self.position = None\n",
    "        self.date_of_birth = None\n",
    "\n",
    "    def __str__(self):\n",
    "        return f'{self.name} born on {self.date_of_birth} works as a {self.position}'\n",
    "\n",
    "    @staticmethod\n",
    "    def new():\n",
    "        return PersonBuilder()\n",
    "\n",
    "    ## Personbuilder is a baseclass that does nothing but returning the person being built\n",
    "    ## through the build() method\n",
    "    \n",
    "class PersonBuilder:\n",
    "    def __init__(self):\n",
    "        self.person = Person()\n",
    "\n",
    "    def build(self):\n",
    "        return self.person\n",
    "\n",
    "## Now we can define subbuilders inheriting from the basebuilder where each subbuilder takes care of building\n",
    "## a specific aspect or part of the person being built ..the next subbuilder inherts from the previous subbuilder\n",
    "## and so on...some sort of chaining the inheritance process so we can also do .().().()..etc\n",
    "\n",
    "class PersonInfoBuilder(PersonBuilder):\n",
    "    def called(self, name):\n",
    "        self.person.name = name\n",
    "        return self\n",
    "\n",
    "\n",
    "class PersonJobBuilder(PersonInfoBuilder):\n",
    "    def works_as_a(self, position):\n",
    "        self.person.position = position\n",
    "        return self\n",
    "\n",
    "\n",
    "class PersonBirthDateBuilder(PersonJobBuilder):\n",
    "    def born(self, date_of_birth):\n",
    "        self.person.date_of_birth = date_of_birth\n",
    "        return self\n",
    "\n",
    "\n",
    "if __name__ == '__main__':\n",
    "    pb = PersonBirthDateBuilder()\n",
    "    me = pb\\\n",
    "        .called('Dmitri')\\\n",
    "        .works_as_a('quant')\\\n",
    "        .born('1/1/1980')\\\n",
    "        .build()  # this does NOT work in C#/C++/Java/...\n",
    "    print(me)\n"
   ]
  },
  {
   "cell_type": "code",
   "execution_count": 4,
   "metadata": {},
   "outputs": [
    {
     "data": {
      "text/plain": [
       "{'date_of_birth': '1/1/1980', 'name': 'Dmitri', 'position': 'quant'}"
      ]
     },
     "execution_count": 4,
     "metadata": {},
     "output_type": "execute_result"
    }
   ],
   "source": [
    "me.__dict__"
   ]
  },
  {
   "cell_type": "code",
   "execution_count": null,
   "metadata": {},
   "outputs": [],
   "source": []
  }
 ],
 "metadata": {
  "kernelspec": {
   "display_name": "Python 3",
   "language": "python",
   "name": "python3"
  },
  "language_info": {
   "codemirror_mode": {
    "name": "ipython",
    "version": 3
   },
   "file_extension": ".py",
   "mimetype": "text/x-python",
   "name": "python",
   "nbconvert_exporter": "python",
   "pygments_lexer": "ipython3",
   "version": "3.6.7"
  }
 },
 "nbformat": 4,
 "nbformat_minor": 2
}
