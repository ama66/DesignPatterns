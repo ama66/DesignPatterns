{
 "cells": [
  {
   "cell_type": "code",
   "execution_count": 2,
   "metadata": {},
   "outputs": [
    {
     "name": "stdout",
     "output_type": "stream",
     "text": [
      "John has a child called Chris\n",
      "John has a child called Matt\n"
     ]
    }
   ],
   "source": [
    "## Dependency inversion: High level classes should not depend on low level class implementation. they should rather depend\n",
    "## on interfaces so that they code does not break if low-level class implementation change (for example going\n",
    "# from in-memory to database)\n",
    "\n",
    "from abc import abstractmethod\n",
    "from enum import Enum\n",
    "\n",
    "\n",
    "class Relationship(Enum):\n",
    "    PARENT = 0\n",
    "    CHILD = 1\n",
    "    SIBLING = 2\n",
    "\n",
    "\n",
    "class Person:\n",
    "    def __init__(self, name):\n",
    "        self.name = name\n",
    "\n",
    "### This is what a high level class should depend on..a low level interface\n",
    "## which forces all low-level classes to have a find+All_children_of implemented\n",
    "## so that the high-level class would always work regardless of how the low-level class is implemented\n",
    "\n",
    "class RelationshipBrowser:\n",
    "    @abstractmethod\n",
    "    def find_all_children_of(self, name): pass\n",
    "\n",
    "\n",
    "class Relationships(RelationshipBrowser):  # low-level\n",
    "    relations = []\n",
    "\n",
    "    def add_parent_and_child(self, parent, child):\n",
    "        self.relations.append((parent, Relationship.PARENT, child))\n",
    "        self.relations.append((child, Relationship.PARENT, parent))\n",
    "            \n",
    "    def find_all_children_of(self, name):\n",
    "        for r in self.relations:\n",
    "            if r[0].name == name and r[1] == Relationship.PARENT:\n",
    "                yield r[2].name\n",
    "\n",
    "## the highlevel class depends on an interface/browserso it does not matter\n",
    "## how the browser implements the find_all_children functionality. having a browser\n",
    "## dependency ensures that any class that gets passed onto research has to provide\n",
    "## this functionality! \n",
    "\n",
    "class Research:\n",
    "    # dependency on a low-level module directly\n",
    "    # bad because strongly dependent on e.g. storage type\n",
    "\n",
    "    # def __init__(self, relationships):\n",
    "    #     # high-level: find all of john's children\n",
    "    #     relations = relationships.relations\n",
    "    #     for r in relations:\n",
    "    #         if r[0].name == 'John' and r[1] == Relationship.PARENT:\n",
    "    #             print(f'John has a child called {r[2].name}.')\n",
    "\n",
    "    def __init__(self, browser):\n",
    "        for p in browser.find_all_children_of(\"John\"):\n",
    "            print(f'John has a child called {p}')\n",
    "\n",
    "\n",
    "parent = Person('John')\n",
    "child1 = Person('Chris')\n",
    "child2 = Person('Matt')\n",
    "\n",
    "# low-level module\n",
    "relationships = Relationships()\n",
    "relationships.add_parent_and_child(parent, child1)\n",
    "relationships.add_parent_and_child(parent, child2)\n",
    "\n",
    "Research(relationships);"
   ]
  },
  {
   "cell_type": "code",
   "execution_count": null,
   "metadata": {},
   "outputs": [],
   "source": []
  }
 ],
 "metadata": {
  "kernelspec": {
   "display_name": "Python 3",
   "language": "python",
   "name": "python3"
  },
  "language_info": {
   "codemirror_mode": {
    "name": "ipython",
    "version": 3
   },
   "file_extension": ".py",
   "mimetype": "text/x-python",
   "name": "python",
   "nbconvert_exporter": "python",
   "pygments_lexer": "ipython3",
   "version": "3.6.7"
  }
 },
 "nbformat": 4,
 "nbformat_minor": 2
}
