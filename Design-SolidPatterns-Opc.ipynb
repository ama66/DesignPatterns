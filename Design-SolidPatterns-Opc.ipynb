{
 "cells": [
  {
   "cell_type": "code",
   "execution_count": 1,
   "metadata": {},
   "outputs": [
    {
     "name": "stdout",
     "output_type": "stream",
     "text": [
      "Green products (old):\n",
      " - Apple is green\n",
      " - Tree is green\n",
      "Green products (new):\n",
      " - Apple is green\n",
      " - Tree is green\n",
      "Large products:\n",
      " - Tree is large\n",
      " - House is large\n",
      "Large blue items:\n",
      " - House is large and blue\n"
     ]
    }
   ],
   "source": [
    "# 2) Open closed principle. Classes should be open for extension/inheritance and closed for modifications\n",
    "\n",
    "from enum import Enum\n",
    "\n",
    "\n",
    "class Color(Enum):\n",
    "    RED = 1\n",
    "    GREEN = 2\n",
    "    BLUE = 3\n",
    "\n",
    "\n",
    "class Size(Enum):\n",
    "    SMALL = 1\n",
    "    MEDIUM = 2\n",
    "    LARGE = 3\n",
    "\n",
    "\n",
    "class Product:\n",
    "    def __init__(self, name, color, size):\n",
    "        self.name = name\n",
    "        self.color = color\n",
    "        self.size = size\n",
    "\n",
    "## old way /Antipattern. Modify SAME class by adding additional methods\n",
    "## Each time you want a new filter for products. making the productFilter\n",
    "## A God class of sorts \n",
    "\n",
    "class ProductFilter:\n",
    "    ## given list of products and color yields those that have the same color\n",
    "    def filter_by_color(self, products, color):\n",
    "        for p in products:\n",
    "            if p.color == color: yield p\n",
    "## given list of products and size yields those that have the same size\n",
    "    def filter_by_size(self, products, size):\n",
    "        for p in products:\n",
    "            if p.size == size: yield p\n",
    "## given list of products and (color,size) yields those that have the same color and size\n",
    "    def filter_by_size_and_color(self, products, size, color):\n",
    "        for p in products:\n",
    "            if p.color == color and p.size == size:\n",
    "                yield p\n",
    "\n",
    "    # state space explosion..list of new fitlers can go on and on and the class explodes!\n",
    "    # 3 criteria\n",
    "    # c s w cs sw cw csw = 7 methods\n",
    "\n",
    "    # OCP = open for extension, closed for modification\n",
    "\n",
    "############################################################\n",
    "# Enterprise Design Pattern \n",
    "####################################\n",
    "\n",
    "## Build Abstract class that provide the interface for defining is_satified spec\n",
    "class Specification:\n",
    "    def is_satisfied(self, item):\n",
    "        pass\n",
    "\n",
    "    # and operator makes life easier (to define a combinator spec to combine two different specs)\n",
    "    ##  a spec is just implementation for is_satisfied based on some criteria! \n",
    "    def __and__(self, other):\n",
    "        return AndSpecification(self, other)\n",
    "\n",
    "## Abstract class for the filter method that apply a spec class on a list of items\n",
    "class Filter:\n",
    "    def filter(self, items, spec):\n",
    "        pass\n",
    "\n",
    "\n",
    "class ColorSpecification(Specification):\n",
    "    def __init__(self, color):\n",
    "        self.color = color\n",
    "\n",
    "    def is_satisfied(self, item):\n",
    "        return item.color == self.color\n",
    "\n",
    "\n",
    "class SizeSpecification(Specification):\n",
    "    def __init__(self, size):\n",
    "        self.size = size\n",
    "\n",
    "    def is_satisfied(self, item):\n",
    "        return item.size == self.size\n",
    "\n",
    "\n",
    "class AndSpecification(Specification):\n",
    "    def __init__(self, spec1, spec2):\n",
    "        self.spec2 = spec2\n",
    "        self.spec1 = spec1\n",
    "\n",
    "    def is_satisfied(self, item):\n",
    "        return self.spec1.is_satisfied(item) and \\\n",
    "               self.spec2.is_satisfied(item)\n",
    "\n",
    "\n",
    "class BetterFilter(Filter):\n",
    "    def filter(self, items, spec):\n",
    "        for item in items:\n",
    "            if spec.is_satisfied(item):\n",
    "                yield item\n",
    "\n",
    "\n",
    "apple = Product('Apple', Color.GREEN, Size.SMALL)\n",
    "tree = Product('Tree', Color.GREEN, Size.LARGE)\n",
    "house = Product('House', Color.BLUE, Size.LARGE)\n",
    "\n",
    "products = [apple, tree, house]\n",
    "\n",
    "pf = ProductFilter()\n",
    "print('Green products (old):')\n",
    "for p in pf.filter_by_color(products, Color.GREEN):\n",
    "    print(f' - {p.name} is green')\n",
    "\n",
    "# ^ BEFORE\n",
    "\n",
    "# v AFTER\n",
    "bf = BetterFilter()\n",
    "\n",
    "print('Green products (new):')\n",
    "green = ColorSpecification(Color.GREEN)\n",
    "for p in bf.filter(products, green):\n",
    "    print(f' - {p.name} is green')\n",
    "\n",
    "print('Large products:')\n",
    "large = SizeSpecification(Size.LARGE)\n",
    "for p in bf.filter(products, large):\n",
    "    print(f' - {p.name} is large')\n",
    "\n",
    "print('Large blue items:')\n",
    "# large_blue = AndSpecification(large, ColorSpecification(Color.BLUE))\n",
    "large_blue = large and ColorSpecification(Color.BLUE)\n",
    "for p in bf.filter(products, large_blue):\n",
    "    print(f' - {p.name} is large and blue')"
   ]
  },
  {
   "cell_type": "code",
   "execution_count": 2,
   "metadata": {},
   "outputs": [],
   "source": [
    "large_blue = AndSpecification(large, ColorSpecification(Color.BLUE))\n"
   ]
  },
  {
   "cell_type": "code",
   "execution_count": 5,
   "metadata": {},
   "outputs": [
    {
     "data": {
      "text/plain": [
       "<Size.LARGE: 3>"
      ]
     },
     "execution_count": 5,
     "metadata": {},
     "output_type": "execute_result"
    }
   ],
   "source": [
    "large_blue.spec1.size"
   ]
  },
  {
   "cell_type": "code",
   "execution_count": 6,
   "metadata": {},
   "outputs": [
    {
     "data": {
      "text/plain": [
       "<Color.BLUE: 3>"
      ]
     },
     "execution_count": 6,
     "metadata": {},
     "output_type": "execute_result"
    }
   ],
   "source": [
    "large_blue.spec2.color"
   ]
  },
  {
   "cell_type": "code",
   "execution_count": null,
   "metadata": {},
   "outputs": [],
   "source": []
  }
 ],
 "metadata": {
  "kernelspec": {
   "display_name": "Python 3",
   "language": "python",
   "name": "python3"
  },
  "language_info": {
   "codemirror_mode": {
    "name": "ipython",
    "version": 3
   },
   "file_extension": ".py",
   "mimetype": "text/x-python",
   "name": "python",
   "nbconvert_exporter": "python",
   "pygments_lexer": "ipython3",
   "version": "3.6.7"
  }
 },
 "nbformat": 4,
 "nbformat_minor": 2
}
