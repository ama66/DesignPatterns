{
 "cells": [
  {
   "cell_type": "code",
   "execution_count": 1,
   "metadata": {},
   "outputs": [],
   "source": [
    "from copy import deepcopy\n",
    "\n",
    "class Car:\n",
    "    def __init__(self):\n",
    "        self.__wheels  = list()\n",
    "        self.__engine  = None\n",
    "        self.__body    = None\n",
    "\n",
    "    def setBody(self, body):\n",
    "        self.__body = body\n",
    "\n",
    "    def attachWheel(self, wheel):\n",
    "        self.__wheels.append(wheel)\n",
    "\n",
    "    def setEngine(self, engine):\n",
    "        self.__engine = engine\n",
    "\n",
    "    def specification(self):\n",
    "        print(\"body: %s\" % self.__body.shape)\n",
    "        print(\"engine horsepower: %d\" % self.__engine.horsepower)\n",
    "        print(\"tire size: %d\\'\" % self.__wheels[0].size)\n",
    "\n",
    "    def clone(self):\n",
    "        return deepcopy(self)\n",
    "\n",
    "# === Car parts ===\n",
    "class Wheel:\n",
    "    size = None\n",
    "\n",
    "class Engine:\n",
    "    horsepower = None\n",
    "\n",
    "class Body:\n",
    "    shape = None\n",
    "\n",
    "\n",
    "class Director:\n",
    "    __builder = None\n",
    "\n",
    "    def setBuilder(self, builder):\n",
    "        self.__builder = builder\n",
    "\n",
    "    # The algorithm for assembling a car\n",
    "    def getCar(self):\n",
    "        car = Car()\n",
    "\n",
    "        # First goes the body\n",
    "        body = self.__builder.getBody()\n",
    "        car.setBody(body)\n",
    "\n",
    "        # Then engine\n",
    "        engine = self.__builder.getEngine()\n",
    "        car.setEngine(engine)\n",
    "\n",
    "        # And four wheels\n",
    "        i = 0\n",
    "        while i < 4:\n",
    "            wheel = self.__builder.getWheel()\n",
    "            car.attachWheel(wheel)\n",
    "            i += 1\n",
    "\n",
    "        return car\n",
    "\n",
    "## A Builder has to support three functions. So that is why we put them in the interface below\n",
    "## you could also add the abstract dectorator \n",
    "\n",
    "class BuilderInterface:\n",
    "    def getWheel(self): pass\n",
    "    def getEngine(self): pass\n",
    "    def getBody(self): pass\n",
    "\n",
    "## now we could implement different types of builders with concrete implementations\n",
    "## the classes below set and return car parts (wheel , engine and part with specs related to Jeep)\n",
    "class JeepBuilder(BuilderInterface):\n",
    "    def getWheel(self):\n",
    "        wheel = Wheel()\n",
    "        wheel.size = 22\n",
    "        return wheel\n",
    "\n",
    "    def getEngine(self):\n",
    "        engine = Engine()\n",
    "        engine.horsepower = 400\n",
    "        return engine\n",
    "\n",
    "    def getBody(self):\n",
    "        body = Body()\n",
    "        body.shape = \"SUV\"\n",
    "        return body\n",
    "\n",
    "\n",
    "class NissanBuilder(BuilderInterface):\n",
    "    def getWheel(self):\n",
    "        wheel = Wheel()\n",
    "        wheel.size = 16\n",
    "        return wheel\n",
    "\n",
    "    def getEngine(self):\n",
    "        engine = Engine()\n",
    "        engine.horsepower = 100\n",
    "        return engine\n",
    "\n",
    "    def getBody(self):\n",
    "        body = Body()\n",
    "        body.shape = \"hatchback\"\n",
    "        return body\n"
   ]
  },
  {
   "cell_type": "code",
   "execution_count": 3,
   "metadata": {},
   "outputs": [],
   "source": [
    "d=Director()\n",
    "d.setBuilder(JeepBuilder())\n",
    "jeep_car1=d.getCar()"
   ]
  },
  {
   "cell_type": "code",
   "execution_count": 5,
   "metadata": {},
   "outputs": [
    {
     "name": "stdout",
     "output_type": "stream",
     "text": [
      "body: SUV\n",
      "engine horsepower: 400\n",
      "tire size: 22'\n"
     ]
    }
   ],
   "source": [
    "jeep_car1.specification()"
   ]
  },
  {
   "cell_type": "code",
   "execution_count": 6,
   "metadata": {},
   "outputs": [],
   "source": [
    "d=Director()\n",
    "d.setBuilder(NissanBuilder())\n",
    "Nissan_car1=d.getCar()"
   ]
  },
  {
   "cell_type": "code",
   "execution_count": 7,
   "metadata": {},
   "outputs": [
    {
     "name": "stdout",
     "output_type": "stream",
     "text": [
      "body: hatchback\n",
      "engine horsepower: 100\n",
      "tire size: 16'\n"
     ]
    }
   ],
   "source": [
    "Nissan_car1.specification()"
   ]
  },
  {
   "cell_type": "code",
   "execution_count": null,
   "metadata": {},
   "outputs": [],
   "source": []
  }
 ],
 "metadata": {
  "kernelspec": {
   "display_name": "Python 3",
   "language": "python",
   "name": "python3"
  },
  "language_info": {
   "codemirror_mode": {
    "name": "ipython",
    "version": 3
   },
   "file_extension": ".py",
   "mimetype": "text/x-python",
   "name": "python",
   "nbconvert_exporter": "python",
   "pygments_lexer": "ipython3",
   "version": "3.6.7"
  }
 },
 "nbformat": 4,
 "nbformat_minor": 2
}
