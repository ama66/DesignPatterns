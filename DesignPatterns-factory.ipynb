{
 "cells": [
  {
   "cell_type": "code",
   "execution_count": 3,
   "metadata": {},
   "outputs": [],
   "source": [
    "class ShapeInterface:\n",
    "    def draw(self): pass\n",
    "\n",
    "\n",
    "class Circle(ShapeInterface):\n",
    "    def draw(self):\n",
    "        print(\"Circle.draw\")\n",
    "\n",
    "\n",
    "class Square(ShapeInterface):\n",
    "    def draw(self):\n",
    "        print(\"Square.draw\")\n",
    "\n",
    "\n",
    "class ShapeFactory:\n",
    "    @staticmethod\n",
    "    def getShape(type):\n",
    "        if type == 'Circle':\n",
    "            return Circle()\n",
    "        if type == 'Square':\n",
    "            return Square()\n",
    "        assert 0, \"Could not find shape \" + type\n",
    "\n",
    "        "
   ]
  },
  {
   "cell_type": "code",
   "execution_count": 5,
   "metadata": {},
   "outputs": [
    {
     "name": "stdout",
     "output_type": "stream",
     "text": [
      "Circle.draw\n"
     ]
    }
   ],
   "source": [
    "s=ShapeFactory()\n",
    "circle=s.getShape('Circle')\n",
    "circle.draw()"
   ]
  },
  {
   "cell_type": "code",
   "execution_count": null,
   "metadata": {},
   "outputs": [],
   "source": [
    "Triangle=s.getShape('Circle')\n",
    "circle.draw()"
   ]
  }
 ],
 "metadata": {
  "kernelspec": {
   "display_name": "Python 3",
   "language": "python",
   "name": "python3"
  },
  "language_info": {
   "codemirror_mode": {
    "name": "ipython",
    "version": 3
   },
   "file_extension": ".py",
   "mimetype": "text/x-python",
   "name": "python",
   "nbconvert_exporter": "python",
   "pygments_lexer": "ipython3",
   "version": "3.6.7"
  }
 },
 "nbformat": 4,
 "nbformat_minor": 2
}
